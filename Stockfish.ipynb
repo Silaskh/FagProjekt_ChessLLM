{
 "cells": [
  {
   "cell_type": "code",
   "execution_count": 14,
   "metadata": {},
   "outputs": [
    {
     "name": "stdout",
     "output_type": "stream",
     "text": [
      "PovScore(Cp(+27), WHITE)\n"
     ]
    }
   ],
   "source": [
    "import chess\n",
    "import chess.engine\n",
    "\n",
    "def stockfish_evaluation(board, time_limit = 0.01):\n",
    "    engine = chess.engine.SimpleEngine.popen_uci(\"/usr/local/Cellar/stockfish/16.1/bin/stockfish\")\n",
    "    result = engine.analyse(board, chess.engine.Limit(time=time_limit))\n",
    "    return result['score']\n",
    "\n",
    "board = chess.Board(\"rnbqkbnr/pppppppp/8/8/8/8/PPPPPPPP/RNBQKBNR w KQkq - 0 1\")\n",
    "result = stockfish_evaluation(board)\n",
    "print(result)"
   ]
  },
  {
   "cell_type": "code",
   "execution_count": 15,
   "metadata": {},
   "outputs": [
    {
     "data": {
      "text/plain": [
       "'e2e4'"
      ]
     },
     "execution_count": 15,
     "metadata": {},
     "output_type": "execute_result"
    }
   ],
   "source": [
    "from stockfish import Stockfish\n",
    "stockfish = Stockfish('/usr/local/Cellar/stockfish/16.1/bin/stockfish')\n",
    "stockfish.set_fen_position(\"rnbqkbnr/pppppppp/8/8/8/8/PPPPPPPP/RNBQKBNR w KQkq - 0 1\")\n",
    "stockfish.get_best_move()"
   ]
  },
  {
   "cell_type": "code",
   "execution_count": 5,
   "metadata": {},
   "outputs": [
    {
     "name": "stdout",
     "output_type": "stream",
     "text": [
      "PovScore(Cp(+27), WHITE)\n"
     ]
    },
    {
     "data": {
      "text/plain": [
       "'e2e4'"
      ]
     },
     "execution_count": 5,
     "metadata": {},
     "output_type": "execute_result"
    }
   ],
   "source": [
    "import chess\n",
    "import chess.engine\n",
    "from stockfish import Stockfish\n",
    "\n",
    "path=(\"/usr/local/Cellar/stockfish/16.1/bin/stockfish\")\n",
    "fen=(\"rnbqkbnr/pppppppp/8/8/8/8/PPPPPPPP/RNBQKBNR w KQkq - 0 1\")\n",
    "\n",
    "\n",
    "\n",
    "\n",
    "def stockfish_evaluation(board, time_limit = 0.01):\n",
    "    engine = chess.engine.SimpleEngine.popen_uci(path)\n",
    "    result = engine.analyse(board, chess.engine.Limit(time=time_limit))\n",
    "    return result['score']\n",
    "\n",
    "board = chess.Board(fen)\n",
    "result = stockfish_evaluation(board)\n",
    "print(result)\n",
    "\n",
    "\n",
    "\n",
    "\n",
    "stockfish = Stockfish(path)\n",
    "stockfish.set_fen_position(fen)\n",
    "stockfish.get_best_move()\n"
   ]
  }
 ],
 "metadata": {
  "kernelspec": {
   "display_name": "base",
   "language": "python",
   "name": "python3"
  },
  "language_info": {
   "codemirror_mode": {
    "name": "ipython",
    "version": 3
   },
   "file_extension": ".py",
   "mimetype": "text/x-python",
   "name": "python",
   "nbconvert_exporter": "python",
   "pygments_lexer": "ipython3",
   "version": "3.9.18"
  }
 },
 "nbformat": 4,
 "nbformat_minor": 2
}
