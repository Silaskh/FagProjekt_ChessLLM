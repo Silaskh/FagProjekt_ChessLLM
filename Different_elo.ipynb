{
 "cells": [
  {
   "cell_type": "code",
   "execution_count": 1,
   "metadata": {},
   "outputs": [],
   "source": [
    "from evaluation_pipeline_copy import*"
   ]
  },
  {
   "cell_type": "code",
   "execution_count": 2,
   "metadata": {},
   "outputs": [
    {
     "data": {
      "text/plain": [
       "['c4d5',\n",
       " 'a7a8',\n",
       " 'e3g5',\n",
       " 'e6e8',\n",
       " 'e7f8',\n",
       " 'b5c6',\n",
       " 'd7c5',\n",
       " 'd5e6',\n",
       " 'g5h7',\n",
       " 'e4f5',\n",
       " 'g4h6',\n",
       " 'f1c4',\n",
       " 'b3d5',\n",
       " 'd4e6',\n",
       " 'c6d7',\n",
       " 'd8e7',\n",
       " 'd1d6',\n",
       " 'd3e2',\n",
       " 'd5e6',\n",
       " 'e4d5',\n",
       " 'g5h7',\n",
       " 'e3d4',\n",
       " 'e2f4',\n",
       " 'd2e4',\n",
       " 'f8e7',\n",
       " 'b2c3',\n",
       " 'e7f8',\n",
       " 'c5d7',\n",
       " 'f8e8',\n",
       " 'e2e8',\n",
       " 'd4d8',\n",
       " 'g8h8',\n",
       " 'f5e4',\n",
       " 'e7b7',\n",
       " 'e1d1',\n",
       " 'g4g5',\n",
       " 'g6g5',\n",
       " 'e6e5',\n",
       " 'd6c8',\n",
       " 'd4a4',\n",
       " 'b6a8',\n",
       " 'g6f4',\n",
       " 'f6d7',\n",
       " 'c1e3',\n",
       " 'h8h7',\n",
       " 'd3d4',\n",
       " 'g6g5',\n",
       " 'd8e7',\n",
       " 'd6d5',\n",
       " 'b4b5',\n",
       " 'e6e5',\n",
       " 'a6c8',\n",
       " 'g2e4',\n",
       " 'a3a4',\n",
       " 'c7d7',\n",
       " 'b7g2',\n",
       " 'f6g4',\n",
       " 'c3f6',\n",
       " 'h3f4',\n",
       " 'g6f7',\n",
       " 'h6h5',\n",
       " 'e6g6',\n",
       " 'h7h5',\n",
       " 'e6c8',\n",
       " 'b5b3',\n",
       " 'b2b4',\n",
       " 'e2e1',\n",
       " 'b6b2',\n",
       " 'c1f4',\n",
       " 'c8b7',\n",
       " 'e2c3',\n",
       " 'a7d4',\n",
       " 'c8d7',\n",
       " 'd3f1',\n",
       " 'a1f1',\n",
       " 'f3e1',\n",
       " 'e1d2',\n",
       " 'e3h6',\n",
       " 'e3c1',\n",
       " 'f5g4',\n",
       " 'a8a3',\n",
       " 'd3d7',\n",
       " 'c6c2',\n",
       " 'g1h1',\n",
       " 'a6a5',\n",
       " 'e6e5',\n",
       " 'c3c4',\n",
       " 'b1a1',\n",
       " 'd2e2',\n",
       " 'd1c1',\n",
       " 'f6d5',\n",
       " 'h1h2',\n",
       " 'e8d7',\n",
       " 'd1d2',\n",
       " 'd5c7',\n",
       " 'd8d7',\n",
       " 'e6c4',\n",
       " 'e8c8',\n",
       " 'f5h3',\n",
       " 'f6d7',\n",
       " 'c8d7',\n",
       " 'd1e2',\n",
       " 'c6c5',\n",
       " 'e2d4',\n",
       " 'c8d7',\n",
       " 'd3e3',\n",
       " 'd7c6',\n",
       " 'f1e1',\n",
       " 'd3g3',\n",
       " 'a8d8',\n",
       " 'd8c8',\n",
       " 'd1e3',\n",
       " 'd8e8',\n",
       " 'd3c2',\n",
       " 'c6e8',\n",
       " 'e7f8',\n",
       " 'g7h8',\n",
       " 'd8e7',\n",
       " 'a8f8',\n",
       " 'b8a7']"
      ]
     },
     "execution_count": 2,
     "metadata": {},
     "output_type": "execute_result"
    }
   ],
   "source": [
    "df = pd.read_csv(r\"chessData.csv\")\n",
    "\n",
    "def get_ensemble_output():\n",
    "    d_moves = get_ensemble_output_dict()\n",
    "    moves = []\n",
    "    #Loop through all dicts in moves, append the key with the highest value to moves_played\n",
    "    for dict in d_moves:\n",
    "        max_key = max(dict, key=dict.get)\n",
    "        moves.append(max_key)\n",
    "    return moves\n",
    "\n",
    "def get_ensemble_output():\n",
    "    d_moves = get_ensemble_output_dict()\n",
    "    moves = []\n",
    "    #Loop through all dicts in moves, append the key with the highest value to moves_played\n",
    "    for dict in d_moves:\n",
    "        max_key = max(dict, key=dict.get)\n",
    "        moves.append(max_key)\n",
    "    return moves\n",
    "\n",
    "data_random = generate_synthetic_data_dict(120,1,df,1)\n",
    "data_ensemble = get_ensemble_output()\n",
    "data_ensemble"
   ]
  },
  {
   "cell_type": "code",
   "execution_count": 19,
   "metadata": {},
   "outputs": [],
   "source": [
    "categories = ['Below 25%',r'25%-50%', r'50%-75%', 'Above 75%']"
   ]
  },
  {
   "cell_type": "code",
   "execution_count": 21,
   "metadata": {},
   "outputs": [
    {
     "ename": "IndexError",
     "evalue": "index 0 is out of bounds for axis 0 with size 0",
     "output_type": "error",
     "traceback": [
      "\u001b[1;31m---------------------------------------------------------------------------\u001b[0m",
      "\u001b[1;31mIndexError\u001b[0m                                Traceback (most recent call last)",
      "Cell \u001b[1;32mIn[21], line 2\u001b[0m\n\u001b[0;32m      1\u001b[0m counts_random_1350 \u001b[38;5;241m=\u001b[39m percentile_distribution(data_random, df)\n\u001b[1;32m----> 2\u001b[0m counts_ensemble_1350 \u001b[38;5;241m=\u001b[39m \u001b[43mpercentile_distribution\u001b[49m\u001b[43m(\u001b[49m\u001b[43mdata_ensemble\u001b[49m\u001b[43m,\u001b[49m\u001b[43m \u001b[49m\u001b[43mdf\u001b[49m\u001b[43m)\u001b[49m\n",
      "File \u001b[1;32mc:\\Users\\nunni\\OneDrive\\Skrivebord\\Fagprojekt\\FagProjekt_ChessLLM\\evaluation_pipeline_copy.py:132\u001b[0m, in \u001b[0;36mpercentile_distribution\u001b[1;34m(moves, df, elo)\u001b[0m\n\u001b[0;32m    130\u001b[0m \u001b[38;5;28;01mdef\u001b[39;00m \u001b[38;5;21mpercentile_distribution\u001b[39m(moves, df, elo\u001b[38;5;241m=\u001b[39m\u001b[38;5;241m1350\u001b[39m):\n\u001b[0;32m    131\u001b[0m     result \u001b[38;5;241m=\u001b[39m np\u001b[38;5;241m.\u001b[39mzeros(\u001b[38;5;241m4\u001b[39m)\n\u001b[1;32m--> 132\u001b[0m     moves_df_list, score_difference \u001b[38;5;241m=\u001b[39m \u001b[43mmove_difference\u001b[49m\u001b[43m(\u001b[49m\u001b[43mmoves\u001b[49m\u001b[43m,\u001b[49m\u001b[43m \u001b[49m\u001b[43mdf\u001b[49m\u001b[43m,\u001b[49m\u001b[43m \u001b[49m\u001b[43melo\u001b[49m\u001b[38;5;241;43m=\u001b[39;49m\u001b[43melo\u001b[49m\u001b[43m)\u001b[49m\n\u001b[0;32m    133\u001b[0m     \u001b[38;5;28;01mfor\u001b[39;00m i \u001b[38;5;129;01min\u001b[39;00m \u001b[38;5;28mrange\u001b[39m(\u001b[38;5;28mlen\u001b[39m(score_difference)):\n\u001b[0;32m    134\u001b[0m         percentile \u001b[38;5;241m=\u001b[39m percentiles(moves_df_list[i])\n",
      "File \u001b[1;32mc:\\Users\\nunni\\OneDrive\\Skrivebord\\Fagprojekt\\FagProjekt_ChessLLM\\evaluation_pipeline_copy.py:103\u001b[0m, in \u001b[0;36mmove_difference\u001b[1;34m(data, df, elo)\u001b[0m\n\u001b[0;32m    101\u001b[0m moves_df \u001b[38;5;241m=\u001b[39m moves_dataframe(df[\u001b[38;5;124m'\u001b[39m\u001b[38;5;124mFEN\u001b[39m\u001b[38;5;124m'\u001b[39m][i], elo\u001b[38;5;241m=\u001b[39melo)\n\u001b[0;32m    102\u001b[0m moves_df_list\u001b[38;5;241m.\u001b[39mappend(moves_df)\n\u001b[1;32m--> 103\u001b[0m move_score \u001b[38;5;241m=\u001b[39m \u001b[43mmoves_df\u001b[49m\u001b[43m[\u001b[49m\u001b[38;5;124;43m'\u001b[39;49m\u001b[38;5;124;43mmove_score\u001b[39;49m\u001b[38;5;124;43m'\u001b[39;49m\u001b[43m]\u001b[49m\u001b[43m[\u001b[49m\u001b[43mmoves_df\u001b[49m\u001b[43m[\u001b[49m\u001b[38;5;124;43m'\u001b[39;49m\u001b[38;5;124;43mmove\u001b[39;49m\u001b[38;5;124;43m'\u001b[39;49m\u001b[43m]\u001b[49m\u001b[43m \u001b[49m\u001b[38;5;241;43m==\u001b[39;49m\u001b[43m \u001b[49m\u001b[43mdata\u001b[49m\u001b[43m[\u001b[49m\u001b[43mi\u001b[49m\u001b[43m]\u001b[49m\u001b[43m]\u001b[49m\u001b[38;5;241;43m.\u001b[39;49m\u001b[43mvalues\u001b[49m\u001b[43m[\u001b[49m\u001b[38;5;241;43m0\u001b[39;49m\u001b[43m]\u001b[49m\n\u001b[0;32m    104\u001b[0m stockfish_score \u001b[38;5;241m=\u001b[39m \u001b[38;5;28mmax\u001b[39m(moves_df[\u001b[38;5;124m'\u001b[39m\u001b[38;5;124mmove_score\u001b[39m\u001b[38;5;124m'\u001b[39m])\n\u001b[0;32m    105\u001b[0m score_difference\u001b[38;5;241m.\u001b[39mappend(stockfish_score\u001b[38;5;241m-\u001b[39mmove_score)\n",
      "\u001b[1;31mIndexError\u001b[0m: index 0 is out of bounds for axis 0 with size 0"
     ]
    }
   ],
   "source": [
    "counts_random_1350 = percentile_distribution(data_random, df)\n",
    "counts_ensemble_1350 = percentile_distribution(data_ensemble, df)"
   ]
  },
  {
   "cell_type": "code",
   "execution_count": null,
   "metadata": {},
   "outputs": [],
   "source": [
    "counts_random_1800 = percentile_distribution(data_random, df, 1800)\n",
    "counts_ensemble_1800 = percentile_distribution(data_ensemble, df, 1800)"
   ]
  },
  {
   "cell_type": "code",
   "execution_count": null,
   "metadata": {},
   "outputs": [],
   "source": [
    "counts_random_2250 = percentile_distribution(data_random, df, 2250)\n",
    "counts_ensemble_2250 = percentile_distribution(data_ensemble, df, 2250)"
   ]
  },
  {
   "cell_type": "code",
   "execution_count": null,
   "metadata": {},
   "outputs": [],
   "source": [
    "counts_random_2700 = percentile_distribution(data_random, df, 2700)\n",
    "counts_ensemble_2700 = percentile_distribution(data_ensemble, df, 2700)"
   ]
  },
  {
   "cell_type": "code",
   "execution_count": null,
   "metadata": {},
   "outputs": [],
   "source": [
    "counts_random_3150 = percentile_distribution(data_random, df, 3150)\n",
    "counts_ensemble_3150 = percentile_distribution(data_ensemble, df, 3150)"
   ]
  }
 ],
 "metadata": {
  "kernelspec": {
   "display_name": "venv-fagprojekt",
   "language": "python",
   "name": "python3"
  },
  "language_info": {
   "codemirror_mode": {
    "name": "ipython",
    "version": 3
   },
   "file_extension": ".py",
   "mimetype": "text/x-python",
   "name": "python",
   "nbconvert_exporter": "python",
   "pygments_lexer": "ipython3",
   "version": "3.12.3"
  }
 },
 "nbformat": 4,
 "nbformat_minor": 2
}
