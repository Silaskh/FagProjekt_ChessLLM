{
 "cells": [
  {
   "cell_type": "markdown",
   "metadata": {},
   "source": [
    "<h1> Git lfs guide </h1>\n",
    "https://docs.github.com/en/repositories/working-with-files/managing-large-files/installing-git-large-file-storage <br>\n",
    "\n",
    "Command for lsf when installed -> git lfs track \".csv\"\n",
    "\n",
    "Ollama without sudo <br>\n",
    "https://github.com/ollama/ollama/issues/2111 <br>\n",
    "\n",
    "When in hpc: <br>\n",
    "go to github.com/ollama/ollama <br>\n",
    "Find relases and locate file called ollama-linux-amd64 (or another model) <br>\n",
    "in folder where file is installed run: <br>\n",
    "chmod +x ollama-* <br>\n",
    "./filename serve& (./ollama-linux-amd64) <br>\n",
    "./filename run llama2 (./ollama-linux-amd64 run llama2)"
   ]
  },
  {
   "cell_type": "code",
   "execution_count": null,
   "metadata": {},
   "outputs": [],
   "source": [
    "install = False # Set to True to install the required packages\n",
    "if install:\n",
    "   !pip install numpy\n",
    "   !pip install pandas\n",
    "   !pip install chess\n",
    "   !pip install fentoboardimage"
   ]
  },
  {
   "cell_type": "markdown",
   "metadata": {},
   "source": [
    "<h1> File for testing different prompting styles </h1>"
   ]
  },
  {
   "cell_type": "markdown",
   "metadata": {},
   "source": [
    "<h2> Importing packages and reading data </h2>"
   ]
  },
  {
   "cell_type": "code",
   "execution_count": 3,
   "metadata": {},
   "outputs": [],
   "source": [
    "# Importing all relevant and necessary modules\n",
    "import numpy as np \n",
    "import pandas as pd \n",
    "import os\n",
    "import chess\n",
    "import math\n",
    "import ollama"
   ]
  },
  {
   "cell_type": "markdown",
   "metadata": {},
   "source": [
    "<h2> Testing different prompting styles </h2>\n",
    "\n",
    "![diagrams\\prompt_test_diagrams2.png](diagrams\\prompt_test_diagrams2.png)"
   ]
  },
  {
   "cell_type": "code",
   "execution_count": 61,
   "metadata": {},
   "outputs": [],
   "source": [
    "def init_prompt_test(prompt_list,df,n_test,color):\n",
    "    results = np.zeros(len(prompt_list))\n",
    "    for i in range(n_test):\n",
    "        prompts = gen_prompts(prompt_list,df['FEN'][i],color)\n",
    "        result = test_prompt(prompts,chess.Board(df['FEN'][i]))\n",
    "        results += result\n",
    "    results = (n_test,results)\n",
    "    output_handler(results)\n",
    "\n",
    "def gen_prompts(prompt_list,fen,color):\n",
    "    prompts = []\n",
    "    board = chess.Board(fen)\n",
    "\n",
    "    for prompt in prompt_list: \n",
    "        if prompt[0] == 0:\n",
    "            prompts.append(gen_prompt1(fen))\n",
    "        else:\n",
    "            prompts.append( gen_prompt2( fen, gen_legal_moves(board,prompt[1]) )   )\n",
    "    return prompts\n",
    "\n",
    "def gen_prompt1(board, n=10):\n",
    "    return f\"You are playing chess and the board state is {board}.  You have to chose the best move to make next and provide the  What is your next move given in UCI notation?\"\n",
    "\n",
    "def gen_prompt2(board,moves, n=10):\n",
    "    return f\"You are playing chess and the board state is {board}. Here you are given a list of legal moves {moves}. You have to chose the best move to make next from the list of legal moves and provide the move exactly as they are given to you. What is your next move given in UCI notation?\"\n",
    "    \n",
    "def gen_legal_moves(board,frac=1):\n",
    "    legal_moves = board.legal_moves\n",
    "    legal_moves = [str(move) for move in legal_moves]\n",
    "    if frac == 1:\n",
    "        return legal_moves\n",
    "    else:\n",
    "        return np.random.choice(legal_moves, math.floor(frac*len(legal_moves)), replace=False)\n",
    "\n",
    "def prompt_move(prompt,board):\n",
    "    response = ollama.chat(model='llama2:13b', messages=[\n",
    "            {'role': 'user','content': prompt,},])\n",
    "    move = response['message']['content']\n",
    "    for k in range(len(move)):\n",
    "        if move[k:k+4] in gen_legal_moves(board):\n",
    "            move = move[k:k+4]\n",
    "            break\n",
    "    return move\n",
    "\n",
    "def test_prompt(prompts,board):\n",
    "    result = np.zeros(len(prompts))\n",
    "    for i in range(len(prompts)):\n",
    "        prompt = prompts[i]\n",
    "        move = prompt_move(prompt,board)\n",
    "        if move in  gen_legal_moves(board):\n",
    "            result[i] = 1\n",
    "    return result\n",
    "\n",
    "def output_handler(results):\n",
    "    print(results)\n",
    "def gen_histograms(results):\n",
    "    pass\n",
    "def gen_histogram(result):\n",
    "    pass"
   ]
  },
  {
   "cell_type": "code",
   "execution_count": null,
   "metadata": {},
   "outputs": [],
   "source": [
    "df = pd.read_csv(r\"chessData.csv\")"
   ]
  },
  {
   "cell_type": "code",
   "execution_count": 62,
   "metadata": {},
   "outputs": [
    {
     "name": "stdout",
     "output_type": "stream",
     "text": [
      "(1000, array([  0., 961., 981., 974., 988.]))\n"
     ]
    }
   ],
   "source": [
    "prompt_list = [(0,0),(1,0.25),(1,0.5),(1,0.75),(1,1)]\n",
    "color = 'white'\n",
    "n_test = 1000\n",
    "init_prompt_test(prompt_list,df,n_test,color)"
   ]
  },
  {
   "cell_type": "code",
   "execution_count": 63,
   "metadata": {},
   "outputs": [
    {
     "data": {
      "text/plain": [
       "(1000, [0.0, 961.0, 981.0, 974.0, 988.0])"
      ]
     },
     "execution_count": 63,
     "metadata": {},
     "output_type": "execute_result"
    }
   ],
   "source": [
    "result1 = (1000, ([  0., 961., 981., 974., 988.]))\n",
    "result1"
   ]
  },
  {
   "cell_type": "markdown",
   "metadata": {},
   "source": [
    "<h1> Code for move evaluation </h1> <br> the following blocks of code will handle generating our primary moves, the code will play moves based on chess positions and output evaluations"
   ]
  },
  {
   "cell_type": "markdown",
   "metadata": {},
   "source": [
    "<h2> Function defenitions </h2>"
   ]
  },
  {
   "cell_type": "code",
   "execution_count": null,
   "metadata": {},
   "outputs": [],
   "source": [
    "def init_move_evaluator(network_sizes,df,endpoints,dir):\n",
    "    results = []\n",
    "    for network_size in network_sizes:\n",
    "        for i in range(endpoints):\n",
    "            pass\n",
    "    return results\n",
    "def prompt_network():\n",
    "    pass\n",
    "def prompt_network_moves():\n",
    "    pass\n",
    "\n"
   ]
  }
 ],
 "metadata": {
  "kernelspec": {
   "display_name": "Python 3",
   "language": "python",
   "name": "python3"
  },
  "language_info": {
   "codemirror_mode": {
    "name": "ipython",
    "version": 3
   },
   "file_extension": ".py",
   "mimetype": "text/x-python",
   "name": "python",
   "nbconvert_exporter": "python",
   "pygments_lexer": "ipython3",
   "version": "3.11.8"
  }
 },
 "nbformat": 4,
 "nbformat_minor": 2
}
