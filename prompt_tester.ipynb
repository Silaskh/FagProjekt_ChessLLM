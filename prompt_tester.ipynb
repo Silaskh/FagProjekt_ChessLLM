{
 "cells": [
  {
   "cell_type": "markdown",
   "metadata": {},
   "source": [
    "<h1> Git lfs guide </h1>\n",
    "https://docs.github.com/en/repositories/working-with-files/managing-large-files/installing-git-large-file-storage <br>\n",
    "\n",
    "Command for lsf when installed -> git lfs track \".csv\""
   ]
  },
  {
   "cell_type": "code",
   "execution_count": null,
   "metadata": {},
   "outputs": [],
   "source": [
    "install = False # Set to True to install the required packages\n",
    "if install:\n",
    "   !pip install numpy\n",
    "   !pip install pandas\n",
    "   !pip install chess\n",
    "   !pip install fentoboardimage"
   ]
  },
  {
   "cell_type": "markdown",
   "metadata": {},
   "source": [
    "<h1> File for testing different prompting styles </h1>"
   ]
  },
  {
   "cell_type": "markdown",
   "metadata": {},
   "source": [
    "<h2> Importing packages and reading data </h2>"
   ]
  },
  {
   "cell_type": "code",
   "execution_count": 8,
   "metadata": {},
   "outputs": [],
   "source": [
    "# Importing all relevant and necessary modules\n",
    "import numpy as np \n",
    "import pandas as pd \n",
    "import os\n",
    "import chess\n",
    "import math\n",
    "import ollama\n",
    "\n",
    "#Reading in our training data\n",
    "df = pd.read_csv(r\"chessData.csv\")"
   ]
  },
  {
   "cell_type": "markdown",
   "metadata": {},
   "source": [
    "<h2> Handling generating legal move list and returning a subsection of that list </h2>"
   ]
  },
  {
   "cell_type": "code",
   "execution_count": null,
   "metadata": {},
   "outputs": [],
   "source": [
    "def gen_legal_moves_full(board):\n",
    "    legal_moves = board.legal_moves\n",
    "    legal_moves = [str(move) for move in legal_moves]\n",
    "    return legal_moves\n",
    "\n",
    "def gen_legal_moves(board,frac=1):\n",
    "    if frac == 1:\n",
    "        return gen_legal_moves_full(board)\n",
    "    else:\n",
    "        #Return a fraction of the legal moves\n",
    "        legal_moves = gen_legal_moves_full(board)\n",
    "        return np.random.choice(legal_moves, math.floor(frac*len(legal_moves)), replace=False)"
   ]
  },
  {
   "cell_type": "markdown",
   "metadata": {},
   "source": [
    "<h2> Testing different prompting styles </h2>\n",
    "\n",
    "![diagrams\\prompt_test_diagrams2.png](diagrams\\prompt_test_diagrams2.png)"
   ]
  },
  {
   "cell_type": "code",
   "execution_count": 3,
   "metadata": {},
   "outputs": [
    {
     "ename": "IndentationError",
     "evalue": "expected an indented block after function definition on line 34 (1605804769.py, line 36)",
     "output_type": "error",
     "traceback": [
      "\u001b[1;36m  Cell \u001b[1;32mIn[3], line 36\u001b[1;36m\u001b[0m\n\u001b[1;33m    def test_prompt(prompts):\u001b[0m\n\u001b[1;37m    ^\u001b[0m\n\u001b[1;31mIndentationError\u001b[0m\u001b[1;31m:\u001b[0m expected an indented block after function definition on line 34\n"
     ]
    }
   ],
   "source": [
    "def init_prompt_test(prompt_list,df,n_test,color):\n",
    "    results = np.zeros(len(prompt_list))\n",
    "    for i in range(n_test):\n",
    "        prompts = gen_prompts(prompt_list,df.iloc[i]['fen'],color)\n",
    "        result = test_prompt(prompts)\n",
    "        n_correct += result\n",
    "    results = (n_test,results)\n",
    "    output_handler(results)\n",
    "\n",
    "def gen_prompts(prompt_list,fen,color):\n",
    "    prompts = []\n",
    "    board = chess.Board(fen)\n",
    "    for prompt in prompt_list:\n",
    "        if prompt[0] == 1:\n",
    "            prompts.append(gen_prompt1(color,fen))\n",
    "        else:\n",
    "            prompts.append(gen_prompt2(color,fen,gen_legal_moves(board,prompt[1])))\n",
    "    return prompts\n",
    "\n",
    "def gen_prompt1(color,board, n=10):\n",
    "    return f\"You are playing as {color}. The current board is as follows: \\n {board} \\n you are playing with {n} other models. Vote on the next move in UCI notation \"\n",
    "\n",
    "def gen_prompt2(color,board,moves, n=10):\n",
    "    return f\"You are playing as {color}. The current board is as follows: \\n {board} \\n you are playing with {n} other models. Here you are given a list of legal moves {moves}. You have to vote on the next move to make from the list of legal moves and provide the move exactly as they are given to you\"\n",
    "    \n",
    "def gen_legal_moves(board,frac=1):\n",
    "    legal_moves = board.legal_moves\n",
    "    legal_moves = [str(move) for move in legal_moves]\n",
    "    if frac == 1:\n",
    "        return legal_moves\n",
    "    else:\n",
    "        return np.random.choice(legal_moves, math.floor(frac*len(legal_moves)), replace=False)\n",
    "\n",
    "def prompt_move(prompt,board):\n",
    "    response = ollama.chat(model='llama2', messages=[\n",
    "            {'role': 'user','content': prompt,},])\n",
    "    move = response['message']['content']\n",
    "    for k in range(len(move)):\n",
    "        if move[k:k+4] in gen_legal_moves(board):\n",
    "            move = move[k:k+4]\n",
    "    return move\n",
    "\n",
    "def test_prompt(prompts,board):\n",
    "    result = np.zeros(len(prompts))\n",
    "    for i in range(len(prompts)):\n",
    "        prompt = prompts[i]\n",
    "        move = prompt_move(prompt)\n",
    "        if move in  gen_legal_moves(board):\n",
    "            result[i] = 1\n",
    "    return result\n",
    "\n",
    "def output_handler(results):\n",
    "    pass\n",
    "def gen_histograms(results):\n",
    "    pass\n",
    "def gen_histogram(result):\n",
    "    pass"
   ]
  }
 ],
 "metadata": {
  "kernelspec": {
   "display_name": "Python 3",
   "language": "python",
   "name": "python3"
  },
  "language_info": {
   "codemirror_mode": {
    "name": "ipython",
    "version": 3
   },
   "file_extension": ".py",
   "mimetype": "text/x-python",
   "name": "python",
   "nbconvert_exporter": "python",
   "pygments_lexer": "ipython3",
   "version": "3.11.8"
  }
 },
 "nbformat": 4,
 "nbformat_minor": 2
}
