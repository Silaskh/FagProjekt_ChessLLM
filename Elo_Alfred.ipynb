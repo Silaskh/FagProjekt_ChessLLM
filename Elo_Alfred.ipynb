{
 "cells": [
  {
   "cell_type": "code",
   "execution_count": 1,
   "metadata": {},
   "outputs": [],
   "source": [
    "from stockfish import Stockfish\n",
    "import chess\n",
    "import chess.engine"
   ]
  },
  {
   "cell_type": "code",
   "execution_count": 2,
   "metadata": {},
   "outputs": [],
   "source": [
    "Path=\"/usr/local/Cellar/stockfish/16.1/bin/stockfish\"\n",
    "Engine_elo: int =1600\n",
    "\n",
    "engine=chess.engine.SimpleEngine.popen_uci(Path)\n",
    "\n",
    "engine.configure({\"UCI_LimitStrength\": True,\"UCI_Elo\":Engine_elo})\n",
    "\n"
   ]
  },
  {
   "cell_type": "code",
   "execution_count": null,
   "metadata": {},
   "outputs": [],
   "source": []
  },
  {
   "cell_type": "code",
   "execution_count": null,
   "metadata": {},
   "outputs": [],
   "source": [
    "def evaluate_move_limit(fen,move,ELO):\n",
    "    # Path to Stockfish executable\n",
    "    Path=\"/usr/local/Cellar/stockfish/16.1/bin/stockfish\"\n",
    "    # Engine Elo\n",
    "    Engine_elo: int =ELO\n",
    "    engine=chess.engine.SimpleEngine.popen_uci(Path)\n",
    "    engine.configure({\"UCI_LimitStrength\": True,\"UCI_Elo\":Engine_elo})\n",
    "\n",
    "\n",
    "    board = chess.Board(fen)\n",
    "    board.push(chess.Move.from_uci(move))\n",
    "\n",
    "    info = engine.analyse(board, chess.engine.Limit(time=1))  # Increased time limit for stability\n",
    "\n",
    "    limit_score = info[\"score\"].white().score(mate_score=10000)  # Get the POV score for White\n",
    "\n",
    "    if not is_white_to_move:\n",
    "        limit_score = -limit_score\n",
    "\n",
    "    engine.quit()\n",
    "    return limit_score\n",
    "    # If it's Black to move, invert the score\n",
    "\n",
    "evaluation = evaluate_move_limit(fen, move, elo)\n",
    "print(f\"Evaluation of the move {move} at ELO {elo}: {evaluation}\")"
   ]
  },
  {
   "cell_type": "code",
   "execution_count": 12,
   "metadata": {},
   "outputs": [
    {
     "data": {
      "text/plain": [
       "251"
      ]
     },
     "execution_count": 12,
     "metadata": {},
     "output_type": "execute_result"
    }
   ],
   "source": [
    "evaluate_move_limit(\"r1bqkbnr/pppp1ppp/2n5/4p3/4P3/5N2/PPPP1PPP/RNBQKB1R w KQkq - 2 3\",\"f3e5\",1500)"
   ]
  },
  {
   "cell_type": "code",
   "execution_count": 25,
   "metadata": {},
   "outputs": [
    {
     "name": "stdout",
     "output_type": "stream",
     "text": [
      "Evaluation with limited Elo (1500): 112\n",
      "Evaluation with full-strength Stockfish: 118\n",
      "Difference in evaluation: 6\n"
     ]
    }
   ],
   "source": [
    "import chess\n",
    "import chess.engine\n",
    "\n",
    "# Function to evaluate a move with a limited Elo version of Stockfish\n",
    "def evaluate_move_limit(fen, move, elo):\n",
    "    # Path to Stockfish executable\n",
    "    path = \"/usr/local/Cellar/stockfish/16.1/bin/stockfish\"\n",
    "    # Engine Elo\n",
    "    engine_elo = elo\n",
    "    \n",
    "    # Create engine instance\n",
    "    engine = chess.engine.SimpleEngine.popen_uci(path)\n",
    "    engine.configure({\"UCI_LimitStrength\": True, \"UCI_Elo\": engine_elo})\n",
    "    \n",
    "    # Set up the board\n",
    "    board = chess.Board(fen)\n",
    "    move_obj = chess.Move.from_uci(move)\n",
    "    \n",
    "    # Evaluate the position after the move\n",
    "    board.push(move_obj)\n",
    "    result = engine.analyse(board, chess.engine.Limit(time=0.5))\n",
    "    score = result['score'].relative.score()\n",
    "    \n",
    "    engine.quit()\n",
    "    return score\n",
    "\n",
    "# Function to evaluate a move with the full-strength Stockfish\n",
    "def evaluate_move_full(fen, move):\n",
    "    # Path to Stockfish executable\n",
    "    path = \"/usr/local/Cellar/stockfish/16.1/bin/stockfish\"\n",
    "    \n",
    "    # Create engine instance\n",
    "    engine = chess.engine.SimpleEngine.popen_uci(path)\n",
    "    \n",
    "    # Set up the board\n",
    "    board = chess.Board(fen)\n",
    "    move_obj = chess.Move.from_uci(move)\n",
    "    \n",
    "    # Evaluate the position after the move\n",
    "    board.push(move_obj)\n",
    "    result = engine.analyse(board, chess.engine.Limit(time=0.5))\n",
    "    score = result['score'].relative.score()\n",
    "    \n",
    "    engine.quit()\n",
    "    return score\n",
    "\n",
    "# Example usage\n",
    "fen = \"2r2rk1/1bq2ppp/pp1bpn2/4N3/3P4/1P3N2/PB3PPP/2RQR1K1 w - - 0 18\"\n",
    "move = \"f3g5\"\n",
    "elo = 1500\n",
    "\n",
    "score_limit = evaluate_move_limit(fen, move, elo)\n",
    "score_full = evaluate_move_full(fen, move)\n",
    "\n",
    "print(f\"Evaluation with limited Elo ({elo}): {score_limit}\")\n",
    "print(f\"Evaluation with full-strength Stockfish: {score_full}\")\n",
    "\n",
    "# Comparison\n",
    "difference = score_full - score_limit\n",
    "print(f\"Difference in evaluation: {difference}\")\n"
   ]
  },
  {
   "cell_type": "markdown",
   "metadata": {},
   "source": [
    "Calculate the average difference in evaluation between your moves and the best moves according to the unrestricted Stockfish."
   ]
  },
  {
   "cell_type": "code",
   "execution_count": 15,
   "metadata": {},
   "outputs": [
    {
     "name": "stdout",
     "output_type": "stream",
     "text": [
      "Evaluation results with limited Elo Stockfish:\n",
      "Before move: 401\n",
      "After move: 104\n",
      "Difference: -297\n",
      "\n",
      "Evaluation results with full-strength Stockfish:\n",
      "Before move: 410\n",
      "After move: 118\n",
      "Difference: -292\n"
     ]
    }
   ],
   "source": [
    "\n",
    "# Function to evaluate a position with a limited Elo version of Stockfish\n",
    "def evaluate_position_limit(fen, elo):\n",
    "    # Path to Stockfish executable\n",
    "    path = \"/usr/local/Cellar/stockfish/16.1/bin/stockfish\"\n",
    "    # Engine Elo\n",
    "    engine_elo = elo\n",
    "    \n",
    "    # Create engine instance\n",
    "    engine = chess.engine.SimpleEngine.popen_uci(path)\n",
    "    engine.configure({\"UCI_LimitStrength\": True, \"UCI_Elo\": engine_elo})\n",
    "    \n",
    "    # Set up the board\n",
    "    board = chess.Board(fen)\n",
    "    \n",
    "    # Evaluate the position\n",
    "    result = engine.analyse(board, chess.engine.Limit(time=0.5))\n",
    "    score = result['score'].relative.score()\n",
    "    \n",
    "    engine.quit()\n",
    "    return score\n",
    "\n",
    "# Function to evaluate a position with the full-strength Stockfish\n",
    "def evaluate_position_full(fen):\n",
    "    # Path to Stockfish executable\n",
    "    path = \"/usr/local/Cellar/stockfish/16.1/bin/stockfish\"\n",
    "    \n",
    "    # Create engine instance\n",
    "    engine = chess.engine.SimpleEngine.popen_uci(path)\n",
    "    \n",
    "    # Set up the board\n",
    "    board = chess.Board(fen)\n",
    "    \n",
    "    # Evaluate the position\n",
    "    result = engine.analyse(board, chess.engine.Limit(time=0.5))\n",
    "    score = result['score'].relative.score()\n",
    "    \n",
    "    engine.quit()\n",
    "    return score\n",
    "\n",
    "# Function to evaluate the difference in scores before and after the move\n",
    "def evaluate_move_difference(fen, move, elo):\n",
    "    # Evaluate the position before the move\n",
    "    score_before_limit = evaluate_position_limit(fen, elo)\n",
    "    score_before_full = evaluate_position_full(fen)\n",
    "    \n",
    "    # Make the move on the board\n",
    "    board = chess.Board(fen)\n",
    "    move_obj = chess.Move.from_uci(move)\n",
    "    board.push(move_obj)\n",
    "    fen_after = board.fen()\n",
    "    \n",
    "    # Evaluate the position after the move\n",
    "    score_after_limit = evaluate_position_limit(fen_after, elo)\n",
    "    score_after_full = evaluate_position_full(fen_after)\n",
    "    \n",
    "    # Calculate the differences\n",
    "    difference_limit = score_after_limit - score_before_limit\n",
    "    difference_full = score_after_full - score_before_full\n",
    "    \n",
    "    return {\n",
    "        'before_limit': score_before_limit,\n",
    "        'after_limit': score_after_limit,\n",
    "        'difference_limit': difference_limit,\n",
    "        'before_full': score_before_full,\n",
    "        'after_full': score_after_full,\n",
    "        'difference_full': difference_full\n",
    "    }\n",
    "\n",
    "# Example usage\n",
    "fen = \"2r2rk1/1bq2ppp/pp1bpn2/4N3/3P4/1P3N2/PB3PPP/2RQR1K1 w - - 0 18\"\n",
    "move = \"f3g5\"\n",
    "elo = 1500\n",
    "\n",
    "evaluation_results = evaluate_move_difference(fen, move, elo)\n",
    "\n",
    "print(\"Evaluation results with limited Elo Stockfish:\")\n",
    "print(f\"Before move: {evaluation_results['before_limit']}\")\n",
    "print(f\"After move: {evaluation_results['after_limit']}\")\n",
    "print(f\"Difference: {evaluation_results['difference_limit']}\")\n",
    "\n",
    "print(\"\\nEvaluation results with full-strength Stockfish:\")\n",
    "print(f\"Before move: {evaluation_results['before_full']}\")\n",
    "print(f\"After move: {evaluation_results['after_full']}\")\n",
    "print(f\"Difference: {evaluation_results['difference_full']}\")\n"
   ]
  },
  {
   "cell_type": "code",
   "execution_count": null,
   "metadata": {},
   "outputs": [],
   "source": []
  }
 ],
 "metadata": {
  "kernelspec": {
   "display_name": "base",
   "language": "python",
   "name": "python3"
  },
  "language_info": {
   "codemirror_mode": {
    "name": "ipython",
    "version": 3
   },
   "file_extension": ".py",
   "mimetype": "text/x-python",
   "name": "python",
   "nbconvert_exporter": "python",
   "pygments_lexer": "ipython3",
   "version": "3.9.18"
  }
 },
 "nbformat": 4,
 "nbformat_minor": 2
}
