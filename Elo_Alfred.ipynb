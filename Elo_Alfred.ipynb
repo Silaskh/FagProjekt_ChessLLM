{
 "cells": [
  {
   "cell_type": "code",
   "execution_count": null,
   "metadata": {},
   "outputs": [],
   "source": [
    "from stockfish import Stockfish\n",
    "import chess\n",
    "import chess.engine"
   ]
  },
  {
   "cell_type": "code",
   "execution_count": null,
   "metadata": {},
   "outputs": [],
   "source": [
    "Path=\"/usr/local/Cellar/stockfish/16.1/bin/stockfish\"\n",
    "Engine_elo: int =1600\n",
    "\n",
    "engine=chess.engine.SimpleEngine.popen_uci(Path)\n",
    "\n",
    "engine.configure({\"UCI_LimitStrength\": True,\"UCI_Elo\":Engine_elo})\n",
    "\n"
   ]
  }
 ],
 "metadata": {
  "kernelspec": {
   "display_name": "base",
   "language": "python",
   "name": "python3"
  },
  "language_info": {
   "codemirror_mode": {
    "name": "ipython",
    "version": 3
   },
   "file_extension": ".py",
   "mimetype": "text/x-python",
   "name": "python",
   "nbconvert_exporter": "python",
   "pygments_lexer": "ipython3",
   "version": "3.12.3"
  }
 },
 "nbformat": 4,
 "nbformat_minor": 2
}
