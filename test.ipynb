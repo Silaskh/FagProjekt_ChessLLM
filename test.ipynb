{
 "cells": [
  {
   "cell_type": "markdown",
   "metadata": {},
   "source": [
    "<h1> Testing file </h1>"
   ]
  },
  {
   "cell_type": "code",
   "execution_count": 1,
   "metadata": {},
   "outputs": [],
   "source": [
    "import sys \n",
    "from fentoboardimage import fenToImage, loadPiecesFolder\n",
    "import chess\n",
    "import ollama\n",
    "import re\n"
   ]
  },
  {
   "cell_type": "code",
   "execution_count": 32,
   "metadata": {},
   "outputs": [
    {
     "name": "stdout",
     "output_type": "stream",
     "text": [
      "c:\\Users\\nunni\\anaconda3\\python.exe\n"
     ]
    }
   ],
   "source": [
    "print(sys.executable)"
   ]
  },
  {
   "cell_type": "code",
   "execution_count": 33,
   "metadata": {},
   "outputs": [],
   "source": [
    "def show_board(fen_position,source = r\"./pieces\"):\n",
    "    boardImage = fenToImage(\n",
    "        fen = fen_position,\n",
    "        squarelength = 100,\n",
    "        pieceSet=loadPiecesFolder(source),\n",
    "        darkColor=\"#D18B47\",\n",
    "        lightColor=\"#FFCE9E\"\n",
    "    )\n",
    "    boardImage.show()\n",
    "    "
   ]
  },
  {
   "cell_type": "markdown",
   "metadata": {},
   "source": [
    "<h1> Ollama test </h1>"
   ]
  },
  {
   "cell_type": "code",
   "execution_count": 34,
   "metadata": {},
   "outputs": [
    {
     "data": {
      "text/plain": [
       "['g1h3',\n",
       " 'g1f3',\n",
       " 'b1c3',\n",
       " 'b1a3',\n",
       " 'h2h3',\n",
       " 'g2g3',\n",
       " 'f2f3',\n",
       " 'e2e3',\n",
       " 'd2d3',\n",
       " 'c2c3',\n",
       " 'b2b3',\n",
       " 'a2a3',\n",
       " 'h2h4',\n",
       " 'g2g4',\n",
       " 'f2f4',\n",
       " 'e2e4',\n",
       " 'd2d4',\n",
       " 'c2c4',\n",
       " 'b2b4',\n",
       " 'a2a4']"
      ]
     },
     "execution_count": 34,
     "metadata": {},
     "output_type": "execute_result"
    }
   ],
   "source": [
    "elo = 1200\n",
    "board = chess.Board()\n",
    "fen = board.fen()\n",
    "legal_moves = board.legal_moves\n",
    "colour = \"white\"\n",
    "\n",
    "legalmoves = []\n",
    "\n",
    "# algebraic_notation = [move.uci() for move in legal_moves]\n",
    "for i in legal_moves:\n",
    "    legalmoves.append(i.uci())\n",
    "\n",
    "legalmoves"
   ]
  },
  {
   "cell_type": "code",
   "execution_count": 35,
   "metadata": {},
   "outputs": [],
   "source": [
    "msg = f\"the board state is {fen}, here is a list of legal moves {legalmoves}. You have to chose a move from the list of legal moves. What is your next move given in UCI notation?\""
   ]
  },
  {
   "cell_type": "code",
   "execution_count": 36,
   "metadata": {},
   "outputs": [],
   "source": [
    "def prompt_move(msg):\n",
    "    response = ollama.chat(model='llama2', messages=[\n",
    "      {\n",
    "        'role': 'user',\n",
    "        'content': msg,\n",
    "      },\n",
    "    ])\n",
    "    print(response['message']['content'])\n",
    "    move = response['message']['content']\n",
    "    return move"
   ]
  },
  {
   "cell_type": "code",
   "execution_count": 37,
   "metadata": {},
   "outputs": [
    {
     "name": "stdout",
     "output_type": "stream",
     "text": [
      "\n",
      "As white, I will play \"g1h3\" and attack Black's knight on h4. This move is the most aggressive and tactical option available, as it threatens to capture Black's knight and potentially gain a material advantage.\n"
     ]
    },
    {
     "data": {
      "text/plain": [
       "'\\nAs white, I will play \"g1h3\" and attack Black\\'s knight on h4. This move is the most aggressive and tactical option available, as it threatens to capture Black\\'s knight and potentially gain a material advantage.'"
      ]
     },
     "execution_count": 37,
     "metadata": {},
     "output_type": "execute_result"
    }
   ],
   "source": [
    "move = prompt_move(msg)\n",
    "move"
   ]
  },
  {
   "cell_type": "code",
   "execution_count": 38,
   "metadata": {},
   "outputs": [
    {
     "data": {
      "text/plain": [
       "'g1h3'"
      ]
     },
     "execution_count": 38,
     "metadata": {},
     "output_type": "execute_result"
    }
   ],
   "source": [
    "for i in range(len(move)):\n",
    "    if move[i:i+4] in legalmoves:\n",
    "        move = move[i:i+4]\n",
    "move"
   ]
  },
  {
   "cell_type": "code",
   "execution_count": 39,
   "metadata": {},
   "outputs": [
    {
     "data": {
      "text/plain": [
       "Move.from_uci('g1h3')"
      ]
     },
     "execution_count": 39,
     "metadata": {},
     "output_type": "execute_result"
    }
   ],
   "source": [
    "board.push_san(move)"
   ]
  },
  {
   "cell_type": "code",
   "execution_count": null,
   "metadata": {},
   "outputs": [],
   "source": [
    "fen = board.fen()\n",
    "show_board(fen)"
   ]
  },
  {
   "cell_type": "code",
   "execution_count": 40,
   "metadata": {},
   "outputs": [
    {
     "data": {
      "text/plain": [
       "['g8h6',\n",
       " 'g8f6',\n",
       " 'b8c6',\n",
       " 'b8a6',\n",
       " 'h7h6',\n",
       " 'g7g6',\n",
       " 'f7f6',\n",
       " 'e7e6',\n",
       " 'd7d6',\n",
       " 'c7c6',\n",
       " 'b7b6',\n",
       " 'a7a6',\n",
       " 'h7h5',\n",
       " 'g7g5',\n",
       " 'f7f5',\n",
       " 'e7e5',\n",
       " 'd7d5',\n",
       " 'c7c5',\n",
       " 'b7b5',\n",
       " 'a7a5']"
      ]
     },
     "execution_count": 40,
     "metadata": {},
     "output_type": "execute_result"
    }
   ],
   "source": [
    "legal_moves = board.legal_moves\n",
    "\n",
    "legalmoves = []\n",
    "\n",
    "for i in legal_moves:\n",
    "    legalmoves.append(i.uci())\n",
    "\n",
    "legalmoves"
   ]
  },
  {
   "cell_type": "code",
   "execution_count": 41,
   "metadata": {},
   "outputs": [
    {
     "name": "stdout",
     "output_type": "stream",
     "text": [
      "\n",
      "As white, I will choose the move \"g8h6\".\n"
     ]
    },
    {
     "data": {
      "text/plain": [
       "'g8h6'"
      ]
     },
     "execution_count": 41,
     "metadata": {},
     "output_type": "execute_result"
    }
   ],
   "source": [
    "msg = f\"the board state is {fen}, here is a list of legal moves {legalmoves}. You have to chose a move from the list of legal moves and provide it exactly as they are given to you. What is your next move given in UCI notation?\"\n",
    "move = prompt_move(msg)\n",
    "\n",
    "for i in range(len(move)):\n",
    "    if move[i:i+4] in legalmoves:\n",
    "        move = move[i:i+4]\n",
    "move"
   ]
  },
  {
   "cell_type": "code",
   "execution_count": 42,
   "metadata": {},
   "outputs": [
    {
     "data": {
      "text/plain": [
       "Move.from_uci('g8h6')"
      ]
     },
     "execution_count": 42,
     "metadata": {},
     "output_type": "execute_result"
    }
   ],
   "source": [
    "board.push_san(move)"
   ]
  },
  {
   "cell_type": "code",
   "execution_count": 43,
   "metadata": {},
   "outputs": [],
   "source": [
    "fen = board.fen()\n",
    "show_board(fen)"
   ]
  },
  {
   "cell_type": "code",
   "execution_count": 44,
   "metadata": {},
   "outputs": [
    {
     "data": {
      "text/plain": [
       "['h3g5',\n",
       " 'h3f4',\n",
       " 'h3g1',\n",
       " 'h1g1',\n",
       " 'b1c3',\n",
       " 'b1a3',\n",
       " 'g2g3',\n",
       " 'f2f3',\n",
       " 'e2e3',\n",
       " 'd2d3',\n",
       " 'c2c3',\n",
       " 'b2b3',\n",
       " 'a2a3',\n",
       " 'g2g4',\n",
       " 'f2f4',\n",
       " 'e2e4',\n",
       " 'd2d4',\n",
       " 'c2c4',\n",
       " 'b2b4',\n",
       " 'a2a4']"
      ]
     },
     "execution_count": 44,
     "metadata": {},
     "output_type": "execute_result"
    }
   ],
   "source": [
    "legal_moves = board.legal_moves\n",
    "\n",
    "legalmoves = []\n",
    "for i in legal_moves:\n",
    "    legalmoves.append(i.uci())\n",
    "\n",
    "legalmoves"
   ]
  },
  {
   "cell_type": "code",
   "execution_count": 45,
   "metadata": {},
   "outputs": [
    {
     "name": "stdout",
     "output_type": "stream",
     "text": [
      "\n",
      "I will make my next move \"h3g5\".\n"
     ]
    },
    {
     "data": {
      "text/plain": [
       "'h3g5'"
      ]
     },
     "execution_count": 45,
     "metadata": {},
     "output_type": "execute_result"
    }
   ],
   "source": [
    "msg = f\"the board state is {fen}, here is a list of legal moves {legalmoves}. You have to chose a move from the list of legal moves and provide it exactly as they are given to you. What is your next move given in UCI notation?\"\n",
    "move = prompt_move(msg)\n",
    "\n",
    "for i in range(len(move)):\n",
    "    if move[i:i+4] in legalmoves:\n",
    "        move = move[i:i+4]\n",
    "move"
   ]
  },
  {
   "cell_type": "code",
   "execution_count": 46,
   "metadata": {},
   "outputs": [
    {
     "data": {
      "text/plain": [
       "Move.from_uci('h3g5')"
      ]
     },
     "execution_count": 46,
     "metadata": {},
     "output_type": "execute_result"
    }
   ],
   "source": [
    "board.push_san(move)"
   ]
  },
  {
   "cell_type": "code",
   "execution_count": 47,
   "metadata": {},
   "outputs": [],
   "source": [
    "fen = board.fen()\n",
    "show_board(fen)"
   ]
  }
 ],
 "metadata": {
  "kernelspec": {
   "display_name": "Python 3",
   "language": "python",
   "name": "python3"
  },
  "language_info": {
   "codemirror_mode": {
    "name": "ipython",
    "version": 3
   },
   "file_extension": ".py",
   "mimetype": "text/x-python",
   "name": "python",
   "nbconvert_exporter": "python",
   "pygments_lexer": "ipython3",
   "version": "3.9.12"
  }
 },
 "nbformat": 4,
 "nbformat_minor": 2
}
