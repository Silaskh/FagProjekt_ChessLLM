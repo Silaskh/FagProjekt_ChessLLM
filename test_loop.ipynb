{
 "cells": [
  {
   "cell_type": "code",
   "execution_count": 1,
   "metadata": {},
   "outputs": [],
   "source": [
    "import sys \n",
    "from fentoboardimage import fenToImage, loadPiecesFolder\n",
    "import chess\n",
    "import ollama\n",
    "import re"
   ]
  },
  {
   "cell_type": "code",
   "execution_count": null,
   "metadata": {},
   "outputs": [
    {
     "name": "stdout",
     "output_type": "stream",
     "text": [
      "c:\\Users\\nunni\\anaconda3\\python.exe\n"
     ]
    }
   ],
   "source": [
    "print(sys.executable)"
   ]
  },
  {
   "cell_type": "code",
   "execution_count": 2,
   "metadata": {},
   "outputs": [
    {
     "ename": "",
     "evalue": "",
     "output_type": "error",
     "traceback": [
      "\u001b[1;31mThe Kernel crashed while executing code in the current cell or a previous cell. \n",
      "\u001b[1;31mPlease review the code in the cell(s) to identify a possible cause of the failure. \n",
      "\u001b[1;31mClick <a href='https://aka.ms/vscodeJupyterKernelCrash'>here</a> for more info. \n",
      "\u001b[1;31mView Jupyter <a href='command:jupyter.viewOutput'>log</a> for further details."
     ]
    }
   ],
   "source": [
    "def show_board(fen_position,source = r\"./pieces\"):\n",
    "    boardImage = fenToImage(\n",
    "        fen = fen_position,\n",
    "        squarelength = 100,\n",
    "        pieceSet=loadPiecesFolder(source),\n",
    "        darkColor=\"#D18B47\",\n",
    "        lightColor=\"#FFCE9E\"\n",
    "    )\n",
    "    boardImage.show()\n",
    "    \n",
    "def prompt_move(msg):\n",
    "        response = ollama.chat(model='llama2', messages=[\n",
    "            {\n",
    "                'role': 'user',\n",
    "                'content': msg,\n",
    "            },\n",
    "        ])\n",
    "        move = response['message']['content']\n",
    "        return move"
   ]
  },
  {
   "cell_type": "code",
   "execution_count": null,
   "metadata": {},
   "outputs": [
    {
     "name": "stdout",
     "output_type": "stream",
     "text": [
      "['g1h3', 'g1f3', 'b1c3', 'b1a3', 'h2h3', 'g2g3', 'f2f3', 'e2e3', 'd2d3', 'c2c3', 'b2b3', 'a2a3', 'h2h4', 'g2g4', 'f2f4', 'e2e4', 'd2d4', 'c2c4', 'b2b4', 'a2a4']\n",
      "g1h3\n",
      "['g8h6', 'g8f6', 'b8c6', 'b8a6', 'h7h6', 'g7g6', 'f7f6', 'e7e6', 'd7d6', 'c7c6', 'b7b6', 'a7a6', 'h7h5', 'g7g5', 'f7f5', 'e7e5', 'd7d5', 'c7c5', 'b7b5', 'a7a5']\n",
      "g8h6\n",
      "['h3g5', 'h3f4', 'h3g1', 'h1g1', 'b1c3', 'b1a3', 'g2g3', 'f2f3', 'e2e3', 'd2d3', 'c2c3', 'b2b3', 'a2a3', 'g2g4', 'f2f4', 'e2e4', 'd2d4', 'c2c4', 'b2b4', 'a2a4']\n",
      "h3g5\n",
      "['h8g8', 'b8c6', 'b8a6', 'h6g8', 'h6f5', 'h6g4', 'g7g6', 'f7f6', 'e7e6', 'd7d6', 'c7c6', 'b7b6', 'a7a6', 'f7f5', 'e7e5', 'd7d5', 'c7c5', 'b7b5', 'a7a5']\n",
      "\n",
      "After analyzing the position, I would recommend playing 3...b8-c6. This move aims to:\n",
      "\n",
      "1. Develop the dark-squared bishop, which is a strong piece that can control the d5 square and potentially attack Black's king.\n",
      "2. Put pressure on Black's pawn structure in the center, potentially weakening their position.\n",
      "3. Prepare for potential later moves, such as ...b8-d6 or ...b8-e7, which could further exploit the weaknesses in Black's position.\n",
      "\n",
      "Therefore, my next move is 3...b8-c6.\n"
     ]
    },
    {
     "ename": "InvalidMoveError",
     "evalue": "unsupported multi-leg move: \"\\nAfter analyzing the position, I would recommend playing 3...b8-c6. This move aims to:\\n\\n1. Develop the dark-squared bishop, which is a strong piece that can control the d5 square and potentially attack Black's king.\\n2. Put pressure on Black's pawn structure in the center, potentially weakening their position.\\n3. Prepare for potential later moves, such as ...b8-d6 or ...b8-e7, which could further exploit the weaknesses in Black's position.\\n\\nTherefore, my next move is 3...b8-c6.\"",
     "output_type": "error",
     "traceback": [
      "\u001b[1;31m---------------------------------------------------------------------------\u001b[0m",
      "\u001b[1;31mInvalidMoveError\u001b[0m                          Traceback (most recent call last)",
      "Input \u001b[1;32mIn [12]\u001b[0m, in \u001b[0;36m<cell line: 6>\u001b[1;34m()\u001b[0m\n\u001b[0;32m     19\u001b[0m         move \u001b[38;5;241m=\u001b[39m move[k:k\u001b[38;5;241m+\u001b[39m\u001b[38;5;241m4\u001b[39m]\n\u001b[0;32m     20\u001b[0m \u001b[38;5;28mprint\u001b[39m(move)\n\u001b[1;32m---> 22\u001b[0m \u001b[43mboard\u001b[49m\u001b[38;5;241;43m.\u001b[39;49m\u001b[43mpush_san\u001b[49m\u001b[43m(\u001b[49m\u001b[43mmove\u001b[49m\u001b[43m)\u001b[49m\n\u001b[0;32m     23\u001b[0m legal_moves \u001b[38;5;241m=\u001b[39m board\u001b[38;5;241m.\u001b[39mlegal_moves\n\u001b[0;32m     24\u001b[0m fen \u001b[38;5;241m=\u001b[39m board\u001b[38;5;241m.\u001b[39mfen()\n",
      "File \u001b[1;32mc:\\Users\\nunni\\anaconda3\\lib\\site-packages\\chess\\__init__.py:3105\u001b[0m, in \u001b[0;36mBoard.push_san\u001b[1;34m(self, san)\u001b[0m\n\u001b[0;32m   3091\u001b[0m \u001b[38;5;28;01mdef\u001b[39;00m \u001b[38;5;21mpush_san\u001b[39m(\u001b[38;5;28mself\u001b[39m, san: \u001b[38;5;28mstr\u001b[39m) \u001b[38;5;241m-\u001b[39m\u001b[38;5;241m>\u001b[39m Move:\n\u001b[0;32m   3092\u001b[0m     \u001b[38;5;124;03m\"\"\"\u001b[39;00m\n\u001b[0;32m   3093\u001b[0m \u001b[38;5;124;03m    Parses a move in standard algebraic notation, makes the move and puts\u001b[39;00m\n\u001b[0;32m   3094\u001b[0m \u001b[38;5;124;03m    it onto the move stack.\u001b[39;00m\n\u001b[1;32m   (...)\u001b[0m\n\u001b[0;32m   3103\u001b[0m \u001b[38;5;124;03m        - :exc:`AmbiguousMoveError` if the SAN is ambiguous.\u001b[39;00m\n\u001b[0;32m   3104\u001b[0m \u001b[38;5;124;03m    \"\"\"\u001b[39;00m\n\u001b[1;32m-> 3105\u001b[0m     move \u001b[38;5;241m=\u001b[39m \u001b[38;5;28;43mself\u001b[39;49m\u001b[38;5;241;43m.\u001b[39;49m\u001b[43mparse_san\u001b[49m\u001b[43m(\u001b[49m\u001b[43msan\u001b[49m\u001b[43m)\u001b[49m\n\u001b[0;32m   3106\u001b[0m     \u001b[38;5;28mself\u001b[39m\u001b[38;5;241m.\u001b[39mpush(move)\n\u001b[0;32m   3107\u001b[0m     \u001b[38;5;28;01mreturn\u001b[39;00m move\n",
      "File \u001b[1;32mc:\\Users\\nunni\\anaconda3\\lib\\site-packages\\chess\\__init__.py:3035\u001b[0m, in \u001b[0;36mBoard.parse_san\u001b[1;34m(self, san)\u001b[0m\n\u001b[0;32m   3033\u001b[0m     \u001b[38;5;28;01mreturn\u001b[39;00m Move\u001b[38;5;241m.\u001b[39mnull()\n\u001b[0;32m   3034\u001b[0m \u001b[38;5;28;01melif\u001b[39;00m \u001b[38;5;124m\"\u001b[39m\u001b[38;5;124m,\u001b[39m\u001b[38;5;124m\"\u001b[39m \u001b[38;5;129;01min\u001b[39;00m san:\n\u001b[1;32m-> 3035\u001b[0m     \u001b[38;5;28;01mraise\u001b[39;00m InvalidMoveError(\u001b[38;5;124mf\u001b[39m\u001b[38;5;124m\"\u001b[39m\u001b[38;5;124munsupported multi-leg move: \u001b[39m\u001b[38;5;132;01m{\u001b[39;00msan\u001b[38;5;132;01m!r}\u001b[39;00m\u001b[38;5;124m\"\u001b[39m)\n\u001b[0;32m   3036\u001b[0m \u001b[38;5;28;01melse\u001b[39;00m:\n\u001b[0;32m   3037\u001b[0m     \u001b[38;5;28;01mraise\u001b[39;00m InvalidMoveError(\u001b[38;5;124mf\u001b[39m\u001b[38;5;124m\"\u001b[39m\u001b[38;5;124minvalid san: \u001b[39m\u001b[38;5;132;01m{\u001b[39;00msan\u001b[38;5;132;01m!r}\u001b[39;00m\u001b[38;5;124m\"\u001b[39m)\n",
      "\u001b[1;31mInvalidMoveError\u001b[0m: unsupported multi-leg move: \"\\nAfter analyzing the position, I would recommend playing 3...b8-c6. This move aims to:\\n\\n1. Develop the dark-squared bishop, which is a strong piece that can control the d5 square and potentially attack Black's king.\\n2. Put pressure on Black's pawn structure in the center, potentially weakening their position.\\n3. Prepare for potential later moves, such as ...b8-d6 or ...b8-e7, which could further exploit the weaknesses in Black's position.\\n\\nTherefore, my next move is 3...b8-c6.\""
     ]
    }
   ],
   "source": [
    "board = chess.Board()\n",
    "legal_moves = board.legal_moves\n",
    "fen = board.fen()\n",
    "show_board(fen)\n",
    "\n",
    "for i in range(25):\n",
    "    legalmoves = []\n",
    "\n",
    "    for j in legal_moves:\n",
    "        legalmoves.append(j.uci())\n",
    "    \n",
    "    print(legalmoves)\n",
    "    \n",
    "    msg = f\"You are playing chess and the board state is {fen}. Here you are given a list of legal moves {legalmoves}. You have to chose the best move to make next from the list of legal moves and provide the move exactly as they are given to you. What is your next move given in UCI notation?\"\n",
    "    move = prompt_move(msg)\n",
    "    \n",
    "    for k in range(len(move)):\n",
    "        if move[k:k+4] in legalmoves:\n",
    "            move = move[k:k+4]\n",
    "    print(move)\n",
    "    \n",
    "    board.push_san(move)\n",
    "    legal_moves = board.legal_moves\n",
    "    fen = board.fen()\n",
    "\n",
    "    show_board(fen)"
   ]
  }
 ],
 "metadata": {
  "kernelspec": {
   "display_name": "Python 3",
   "language": "python",
   "name": "python3"
  },
  "language_info": {
   "codemirror_mode": {
    "name": "ipython",
    "version": 3
   },
   "file_extension": ".py",
   "mimetype": "text/x-python",
   "name": "python",
   "nbconvert_exporter": "python",
   "pygments_lexer": "ipython3",
   "version": "3.11.8"
  }
 },
 "nbformat": 4,
 "nbformat_minor": 2
}
