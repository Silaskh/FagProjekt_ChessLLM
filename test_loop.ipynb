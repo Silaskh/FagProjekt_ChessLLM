{
 "cells": [
  {
   "cell_type": "code",
   "execution_count": null,
   "metadata": {},
   "outputs": [],
   "source": [
    "import sys \n",
    "from fentoboardimage import fenToImage, loadPiecesFolder\n",
    "import chess\n",
    "import ollama\n",
    "import re"
   ]
  },
  {
   "cell_type": "code",
   "execution_count": null,
   "metadata": {},
   "outputs": [],
   "source": [
    "print(sys.executable)"
   ]
  },
  {
   "cell_type": "code",
   "execution_count": null,
   "metadata": {},
   "outputs": [],
   "source": [
    "def show_board(fen_position,source = r\"./pieces\"):\n",
    "    boardImage = fenToImage(\n",
    "        fen = fen_position,\n",
    "        squarelength = 100,\n",
    "        pieceSet=loadPiecesFolder(source),\n",
    "        darkColor=\"#D18B47\",\n",
    "        lightColor=\"#FFCE9E\"\n",
    "    )\n",
    "    boardImage.show()\n",
    "    \n",
    "def prompt_move(msg):\n",
    "        response = ollama.chat(model='llama2', messages=[\n",
    "            {\n",
    "                'role': 'user',\n",
    "                'content': msg,\n",
    "            },\n",
    "        ])\n",
    "        move = response['message']['content']\n",
    "        return move"
   ]
  },
  {
   "cell_type": "code",
   "execution_count": 1,
   "metadata": {},
   "outputs": [
    {
     "ename": "NameError",
     "evalue": "name 'chess' is not defined",
     "output_type": "error",
     "traceback": [
      "\u001b[1;31m---------------------------------------------------------------------------\u001b[0m",
      "\u001b[1;31mNameError\u001b[0m                                 Traceback (most recent call last)",
      "Input \u001b[1;32mIn [1]\u001b[0m, in \u001b[0;36m<cell line: 1>\u001b[1;34m()\u001b[0m\n\u001b[1;32m----> 1\u001b[0m board \u001b[38;5;241m=\u001b[39m \u001b[43mchess\u001b[49m\u001b[38;5;241m.\u001b[39mBoard()\n\u001b[0;32m      2\u001b[0m legal_moves \u001b[38;5;241m=\u001b[39m board\u001b[38;5;241m.\u001b[39mlegal_moves\n\u001b[0;32m      3\u001b[0m fen \u001b[38;5;241m=\u001b[39m board\u001b[38;5;241m.\u001b[39mfen()\n",
      "\u001b[1;31mNameError\u001b[0m: name 'chess' is not defined"
     ]
    }
   ],
   "source": [
    "board = chess.Board()\n",
    "legal_moves = board.legal_moves\n",
    "fen = board.fen()\n",
    "show_board(fen)\n",
    "\n",
    "for i in range(5):\n",
    "    legalmoves = []\n",
    "\n",
    "    for j in legal_moves:\n",
    "        legalmoves.append(j.uci())\n",
    "    \n",
    "    print(legalmoves)\n",
    "    \n",
    "    msg = f\"the board state is {fen}, here is a list of legal moves {legalmoves}. You have to chose a move from the list of legal moves and provide it exactly as they are given to you. What is your next move given in UCI notation?\"\n",
    "    move = prompt_move(msg)\n",
    "    \n",
    "    for k in range(len(move)):\n",
    "        if move[k:k+4] in legalmoves:\n",
    "            move = move[k:k+4]\n",
    "    print(move)\n",
    "    \n",
    "    board.push_san(move)\n",
    "    legal_moves = board.legal_moves\n",
    "    fen = board.fen()\n",
    "    show_board(fen)"
   ]
  }
 ],
 "metadata": {
  "kernelspec": {
   "display_name": "Python 3",
   "language": "python",
   "name": "python3"
  },
  "language_info": {
   "codemirror_mode": {
    "name": "ipython",
    "version": 3
   },
   "file_extension": ".py",
   "mimetype": "text/x-python",
   "name": "python",
   "nbconvert_exporter": "python",
   "pygments_lexer": "ipython3",
   "version": "3.9.12"
  }
 },
 "nbformat": 4,
 "nbformat_minor": 2
}
