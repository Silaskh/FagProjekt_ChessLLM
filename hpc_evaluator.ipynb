{
 "cells": [
  {
   "cell_type": "code",
   "execution_count": 2,
   "metadata": {},
   "outputs": [],
   "source": [
    "import numpy as np \n",
    "import pandas as pd \n",
    "import os\n",
    "import chess\n",
    "import math\n",
    "import matplotlib.pyplot as plt\n",
    "import ollama\n",
    "from stockfish import Stockfish\n",
    "\n",
    "def gen_legal_moves(board,frac=1):\n",
    "    legal_moves = board.legal_moves\n",
    "    legal_moves = [str(move) for move in legal_moves]\n",
    "    if frac == 1:\n",
    "        return legal_moves\n",
    "    else:\n",
    "        return np.random.choice(legal_moves, math.floor(frac*len(legal_moves)), replace=False)\n",
    "    \n",
    "\n",
    "def evaluate_move_stockfish(fen,move,path_to_stockfish):\n",
    "    board = chess.Board(fen)\n",
    "    stockfish = Stockfish(path_to_stockfish)\n",
    "    board.push_uci(move)\n",
    "    return stockfish.get_evaluation()[\"value\"]\n",
    "\n",
    "def best_move(fen, path_to_stockfish):\n",
    "    board = chess.Board(fen)\n",
    "    legal_moves = gen_legal_moves(board)\n",
    "    best_move = legal_moves[0]\n",
    "    best_move_eval = evaluate_move_stockfish(fen, best_move, path_to_stockfish)\n",
    "    for move in legal_moves:\n",
    "        move_eval = evaluate_move_stockfish(fen, move, path_to_stockfish)\n",
    "        if move_eval > best_move_eval:\n",
    "            best_move = move\n",
    "            best_move_eval = move_eval\n",
    "    return best_move\n",
    "\n",
    "\n",
    "path=(\"stockfish-windows-x86-64\\stockfish\\stockfish-windows-x86-64.exe\")\n",
    "\n"
   ]
  },
  {
   "cell_type": "code",
   "execution_count": null,
   "metadata": {},
   "outputs": [],
   "source": [
    "df = pd.read_csv(r\"chessData.csv\")\n",
    "n_optimal_moves = 0\n",
    "#Open file hpc_output\\1000_filtered and looop through every line in file\n",
    "with open(r\"hpc_output\\1000_filtered\") as f:\n",
    "    for line in f:\n",
    "        #Split line into fen and optimal move\n",
    "        idx, move = line.split(\":\")\n",
    "        move = move[:-1]\n",
    "        idx = int(idx)\n",
    "\n",
    "        #Get best move from stockfish\n",
    "        #check if df[\"FEN\"] is white or black to play\n",
    "        board = chess.Board(df[\"FEN\"][idx])\n",
    "        board.\n",
    "\n",
    "        best = best_move(df[\"FEN\"], path)\n",
    "        #If the best move from stockfish is the same as the optimal move increment n_optimal_moves\n",
    "        if best == move:\n",
    "            n_optimal_moves += 1\n",
    "        n_optimal_moves = 0\n",
    "\n",
    "        "
   ]
  },
  {
   "cell_type": "code",
   "execution_count": 3,
   "metadata": {},
   "outputs": [],
   "source": [
    "df = pd.read_csv(r\"chessData.csv\")\n",
    "board = chess.Board(df[\"FEN\"][0])\n"
   ]
  }
 ],
 "metadata": {
  "kernelspec": {
   "display_name": "chess_env",
   "language": "python",
   "name": "python3"
  },
  "language_info": {
   "codemirror_mode": {
    "name": "ipython",
    "version": 3
   },
   "file_extension": ".py",
   "mimetype": "text/x-python",
   "name": "python",
   "nbconvert_exporter": "python",
   "pygments_lexer": "ipython3",
   "version": "3.11.7"
  }
 },
 "nbformat": 4,
 "nbformat_minor": 2
}
