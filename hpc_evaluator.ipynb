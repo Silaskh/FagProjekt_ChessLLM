{
 "cells": [
  {
   "cell_type": "code",
   "execution_count": 28,
   "metadata": {},
   "outputs": [],
   "source": [
    "import numpy as np \n",
    "import pandas as pd \n",
    "import os\n",
    "import chess\n",
    "import math\n",
    "import matplotlib.pyplot as plt\n",
    "import ollama\n",
    "from stockfish import Stockfish\n",
    "\n",
    "def gen_legal_moves(board,frac=1):\n",
    "    legal_moves = board.legal_moves\n",
    "    legal_moves = [str(move) for move in legal_moves]\n",
    "    if frac == 1:\n",
    "        return legal_moves\n",
    "    else:\n",
    "        return np.random.choice(legal_moves, math.floor(frac*len(legal_moves)), replace=False)\n",
    "    \n",
    "\n",
    "def evaluate_move_stockfish(fen,move,path_to_stockfish):\n",
    "    board = chess.Board(fen)\n",
    "    stockfish = Stockfish(path_to_stockfish)\n",
    "    board.push_uci(move)\n",
    "    return stockfish.get_evaluation()[\"value\"]\n",
    "\n",
    "def evaluate_move_stockfish_black(fen,move,path_to_stockfish):\n",
    "    board = chess.Board(fen)\n",
    "    stockfish = Stockfish(path_to_stockfish)\n",
    "    board.push_uci(move)\n",
    "    return stockfish.get_evaluation()[\"value\"]\n",
    "\n",
    "def best_move(fen, path_to_stockfish):\n",
    "    board = chess.Board(fen)\n",
    "    legal_moves = gen_legal_moves(board)\n",
    "    best_move = legal_moves[0]\n",
    "    best_move_eval = evaluate_move_stockfish(fen, best_move, path_to_stockfish)\n",
    "    for move in legal_moves:\n",
    "        move_eval = evaluate_move_stockfish(fen, move, path_to_stockfish)\n",
    "        if move_eval > best_move_eval:\n",
    "            best_move = move\n",
    "            best_move_eval = move_eval\n",
    "    return best_move\n",
    "\n",
    "def best_move_black(fen, path_to_stockfish):\n",
    "    board = chess.Board(fen)\n",
    "    legal_moves = gen_legal_moves(board)\n",
    "    best_move = legal_moves[0]\n",
    "    best_move_eval = evaluate_move_stockfish(fen, best_move, path_to_stockfish)\n",
    "    for move in legal_moves:\n",
    "        move_eval = evaluate_move_stockfish(fen, move, path_to_stockfish)\n",
    "        if move_eval > best_move_eval:\n",
    "            best_move = move\n",
    "            best_move_eval = move_eval\n",
    "    return best_move\n",
    "\n",
    "\n",
    "path = r\"stockfish-windows-x86-64\\stockfish\\stockfish-windows-x86-64.exe\"\n"
   ]
  },
  {
   "cell_type": "code",
   "execution_count": 17,
   "metadata": {},
   "outputs": [],
   "source": [
    "df = pd.read_csv(r\"chessData.csv\")"
   ]
  },
  {
   "cell_type": "code",
   "execution_count": 31,
   "metadata": {},
   "outputs": [
    {
     "name": "stdout",
     "output_type": "stream",
     "text": [
      "0\n",
      "0\n",
      "1\n",
      "1\n",
      "1\n",
      "1\n",
      "1\n",
      "2\n",
      "2\n",
      "3\n",
      "3\n",
      "3\n",
      "3\n",
      "4\n",
      "4\n",
      "4\n",
      "4\n",
      "5\n",
      "5\n",
      "5\n",
      "5\n",
      "5\n",
      "5\n",
      "5\n",
      "5\n",
      "5\n",
      "5\n"
     ]
    }
   ],
   "source": [
    "\n",
    "n_optimal_moves = 0\n",
    "#Open file hpc_output\\1000_filtered and looop through every line in file\n",
    "with open(r\"hpc_output\\1000_filtered\") as f:\n",
    "    for line in f:\n",
    "        #Split line into fen and optimal move\n",
    "        idx, move = line.split(\":\")\n",
    "        move = move[:-1]\n",
    "        idx = int(idx)\n",
    "\n",
    "        #Get best move from stockfish\n",
    "        #check if df[\"FEN\"] is white or black to play\n",
    "        if turn == True:\n",
    "            best = best_move(df[\"FEN\"][idx], path)\n",
    "        else:\n",
    "    W        best = best_move_black(df[\"FEN\"][idx], path)\n",
    "        #If the best move from stockfish is the same as the optimal move increment n_optimal_moves\n",
    "        if best == move:\n",
    "            n_optimal_moves += 1\n",
    "        print(n_optimal_moves)\n",
    "\n",
    "        "
   ]
  },
  {
   "cell_type": "code",
   "execution_count": 3,
   "metadata": {},
   "outputs": [
    {
     "ename": "",
     "evalue": "",
     "output_type": "error",
     "traceback": [
      "\u001b[1;31mThe Kernel crashed while executing code in the current cell or a previous cell. \n",
      "\u001b[1;31mPlease review the code in the cell(s) to identify a possible cause of the failure. \n",
      "\u001b[1;31mClick <a href='https://aka.ms/vscodeJupyterKernelCrash'>here</a> for more info. \n",
      "\u001b[1;31mView Jupyter <a href='command:jupyter.viewOutput'>log</a> for further details."
     ]
    }
   ],
   "source": []
  },
  {
   "cell_type": "code",
   "execution_count": null,
   "metadata": {},
   "outputs": [],
   "source": []
  }
 ],
 "metadata": {
  "kernelspec": {
   "display_name": "chess_env",
   "language": "python",
   "name": "python3"
  },
  "language_info": {
   "codemirror_mode": {
    "name": "ipython",
    "version": 3
   },
   "file_extension": ".py",
   "mimetype": "text/x-python",
   "name": "python",
   "nbconvert_exporter": "python",
   "pygments_lexer": "ipython3",
   "version": "3.11.7"
  }
 },
 "nbformat": 4,
 "nbformat_minor": 2
}
