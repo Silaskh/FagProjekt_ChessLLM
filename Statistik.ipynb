{
 "cells": [
  {
   "cell_type": "code",
   "execution_count": 1,
   "metadata": {},
   "outputs": [],
   "source": [
    "import matplotlib.pyplot as plt\n",
    "import numpy as np\n",
    "import seaborn as sns\n",
    "import matplotlib.pyplot as plt\n",
    "import pandas as pd\n",
    "from stockfish import Stockfish\n",
    "import chess\n",
    "import chess.engine\n",
    "import math\n",
    "import random"
   ]
  },
  {
   "cell_type": "code",
   "execution_count": 2,
   "metadata": {},
   "outputs": [],
   "source": [
    "# data = pd.read_csv('Valgte punkter fra ensemble')\n",
    "df = pd.read_csv(r\"chessData.csv\")"
   ]
  },
  {
   "cell_type": "code",
   "execution_count": 3,
   "metadata": {},
   "outputs": [],
   "source": [
    "data = ['a7a6', 'a2a3', 'b7b6']"
   ]
  },
  {
   "cell_type": "code",
   "execution_count": 4,
   "metadata": {},
   "outputs": [
    {
     "name": "stderr",
     "output_type": "stream",
     "text": [
      "<>:1: SyntaxWarning: invalid escape sequence '\\s'\n",
      "<>:1: SyntaxWarning: invalid escape sequence '\\s'\n",
      "C:\\Users\\nunni\\AppData\\Local\\Temp\\ipykernel_15924\\315037162.py:1: SyntaxWarning: invalid escape sequence '\\s'\n",
      "  path=(\"stockfish-windows-x86-64\\stockfish\\stockfish-windows-x86-64.exe\")\n"
     ]
    }
   ],
   "source": [
    "path=(\"stockfish-windows-x86-64\\stockfish\\stockfish-windows-x86-64.exe\")"
   ]
  },
  {
   "cell_type": "code",
   "execution_count": 5,
   "metadata": {},
   "outputs": [],
   "source": [
    "fen=(\"rnbqkbnr/pppp1ppp/4p3/8/4P3/8/PPPP1PPP/RNBQKBNR w KQkq - 0 2\")"
   ]
  },
  {
   "cell_type": "code",
   "execution_count": 6,
   "metadata": {},
   "outputs": [],
   "source": [
    "def stockfish_evaluation(board, time_limit = 0.01):\n",
    "    engine = chess.engine.SimpleEngine.popen_uci(path)\n",
    "    result = engine.analyse(board, chess.engine.Limit(time=time_limit))\n",
    "    return result['score']\n",
    "\n",
    "def evaluate_move(stockfish,fen,move):\n",
    "    board = chess.Board(fen)\n",
    "    board.push_uci(move)\n",
    "    return stockfish_evaluation(board)\n",
    "\n",
    "board = chess.Board(fen)\n",
    "result = stockfish_evaluation(board)\n",
    "\n",
    "stockfish = Stockfish(path)"
   ]
  },
  {
   "cell_type": "code",
   "execution_count": 7,
   "metadata": {},
   "outputs": [
    {
     "name": "stdout",
     "output_type": "stream",
     "text": [
      "[-61, -51, -88]\n"
     ]
    }
   ],
   "source": [
    "score = []\n",
    "\n",
    "for i in range(len(data)):\n",
    "    move = data[i]\n",
    "    fen = df['FEN'][i]\n",
    "    if 'w' in fen:\n",
    "        end = evaluate_move(stockfish, fen, move).white().score()\n",
    "        score.append(end - int(df['Evaluation'][i]))\n",
    "    else:\n",
    "        end = evaluate_move(stockfish, fen, move).black().score()\n",
    "        score.append(end - int(df['Evaluation'][i]))\n",
    "        \n",
    "print(score)"
   ]
  },
  {
   "cell_type": "code",
   "execution_count": 8,
   "metadata": {},
   "outputs": [],
   "source": [
    "def evaluate_list_white(stockfish,fen,list):\n",
    "    res = []\n",
    "    for move in list:\n",
    "        res.append(evaluate_move(stockfish,fen,move).white().score())\n",
    "    return res\n",
    "\n",
    "def evaluate_list_black(stockfish,fen,list):\n",
    "    res = []\n",
    "    for move in list:\n",
    "        res.append(evaluate_move(stockfish,fen,move).black().score())\n",
    "    return res\n",
    "\n",
    "def gen_legal_moves(board,frac=1):\n",
    "    legal_moves = board.legal_moves\n",
    "    legal_moves = [str(move) for move in legal_moves]\n",
    "    if frac == 1:\n",
    "        return legal_moves\n",
    "    else:\n",
    "        return np.random.choice(legal_moves, math.floor(frac*len(legal_moves)), replace=False)"
   ]
  },
  {
   "cell_type": "code",
   "execution_count": 9,
   "metadata": {},
   "outputs": [],
   "source": [
    "mean_score = []\n",
    "for i in range(len(data)):\n",
    "    score = []\n",
    "    move = data[i]\n",
    "    fen = df['FEN'][i]\n",
    "    if 'w' in fen:\n",
    "        move_score = evaluate_list_white(stockfish,fen,gen_legal_moves(chess.Board(fen))),\"\\n\",gen_legal_moves(chess.Board(fen))\n",
    "        for j in range(len(move_score[0])):\n",
    "            score.append(move_score[0][j] - int(df['Evaluation'][i]))\n",
    "        mean_score.append(np.mean(score))\n",
    "    else:\n",
    "        move_score = evaluate_list_black(stockfish,fen,gen_legal_moves(chess.Board(fen))),\"\\n\",gen_legal_moves(chess.Board(fen))\n",
    "        for j in range(len(move_score[0])):\n",
    "            score.append(move_score[0][j] - int(df['Evaluation'][i]))\n",
    "        mean_score.append(np.mean(score))\n",
    "    \n",
    "        \n"
   ]
  },
  {
   "cell_type": "code",
   "execution_count": 10,
   "metadata": {},
   "outputs": [
    {
     "name": "stdout",
     "output_type": "stream",
     "text": [
      "[-81.65, -96.73333333333333, -155.46666666666667]\n"
     ]
    }
   ],
   "source": [
    "print(mean_score)"
   ]
  }
 ],
 "metadata": {
  "kernelspec": {
   "display_name": "venv-fagprojekt",
   "language": "python",
   "name": "python3"
  },
  "language_info": {
   "codemirror_mode": {
    "name": "ipython",
    "version": 3
   },
   "file_extension": ".py",
   "mimetype": "text/x-python",
   "name": "python",
   "nbconvert_exporter": "python",
   "pygments_lexer": "ipython3",
   "version": "3.12.3"
  }
 },
 "nbformat": 4,
 "nbformat_minor": 2
}
