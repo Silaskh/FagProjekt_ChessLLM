{
 "cells": [
  {
   "cell_type": "code",
   "execution_count": 11,
   "metadata": {},
   "outputs": [],
   "source": [
    "import matplotlib.pyplot as plt\n",
    "import numpy as np\n",
    "import seaborn as sns\n",
    "import matplotlib.pyplot as plt\n",
    "import pandas as pd\n",
    "from stockfish import Stockfish\n",
    "import chess\n",
    "import chess.engine\n",
    "import math\n",
    "import random\n",
    "from evaluation_pipeline_copy import generate_synthetic_data_dict"
   ]
  },
  {
   "cell_type": "code",
   "execution_count": 12,
   "metadata": {},
   "outputs": [],
   "source": [
    "# data = pd.read_csv('Valgte punkter fra ensemble')\n",
    "df = pd.read_csv(r\"chessData.csv\")"
   ]
  },
  {
   "cell_type": "code",
   "execution_count": 13,
   "metadata": {},
   "outputs": [
    {
     "data": {
      "text/plain": [
       "['g7g6',\n",
       " 'd1f3',\n",
       " 'd8h4',\n",
       " 'e1e2',\n",
       " 'e8d7',\n",
       " 'f1e2',\n",
       " 'f8a3',\n",
       " 'd1g4',\n",
       " 'h8g8',\n",
       " 'd1g4',\n",
       " 'f8e7',\n",
       " 'f1e2',\n",
       " 'd8b6',\n",
       " 'f1a6',\n",
       " 'c6b4',\n",
       " 'd1c2',\n",
       " 'c6a5',\n",
       " 'c1d2',\n",
       " 'c6a5',\n",
       " 'd1a4',\n",
       " 'c6d8',\n",
       " 'a1c1',\n",
       " 'b4a5',\n",
       " 'e2c3',\n",
       " 'f8f7',\n",
       " 'd2c3',\n",
       " 'c6b8',\n",
       " 'b2b3',\n",
       " 'b6d4',\n",
       " 'h1g1',\n",
       " 'b6a6',\n",
       " 'd2b4',\n",
       " 'b7b5',\n",
       " 'd2h6',\n",
       " 'g8f8',\n",
       " 'c2d3',\n",
       " 'a8b8',\n",
       " 'h7g8',\n",
       " 'e5d3',\n",
       " 'c3b4',\n",
       " 'g7g6',\n",
       " 'c2f5',\n",
       " 'c4a3',\n",
       " 'c2c4',\n",
       " 'g7g5',\n",
       " 'c2c4',\n",
       " 'c8a6',\n",
       " 'e2e6',\n",
       " 'f6d4',\n",
       " 'd3e4']"
      ]
     },
     "execution_count": 13,
     "metadata": {},
     "output_type": "execute_result"
    }
   ],
   "source": [
    "data = generate_synthetic_data_dict(50,1,1,df)\n",
    "data"
   ]
  },
  {
   "cell_type": "code",
   "execution_count": 14,
   "metadata": {},
   "outputs": [
    {
     "name": "stderr",
     "output_type": "stream",
     "text": [
      "<>:1: SyntaxWarning: invalid escape sequence '\\s'\n",
      "<>:1: SyntaxWarning: invalid escape sequence '\\s'\n",
      "C:\\Users\\nunni\\AppData\\Local\\Temp\\ipykernel_12164\\315037162.py:1: SyntaxWarning: invalid escape sequence '\\s'\n",
      "  path=(\"stockfish-windows-x86-64\\stockfish\\stockfish-windows-x86-64.exe\")\n"
     ]
    }
   ],
   "source": [
    "path=(\"stockfish-windows-x86-64\\stockfish\\stockfish-windows-x86-64.exe\")"
   ]
  },
  {
   "cell_type": "code",
   "execution_count": 15,
   "metadata": {},
   "outputs": [],
   "source": [
    "fen=(\"rnbqkbnr/pppp1ppp/4p3/8/4P3/8/PPPP1PPP/RNBQKBNR w KQkq - 0 2\")"
   ]
  },
  {
   "cell_type": "code",
   "execution_count": 16,
   "metadata": {},
   "outputs": [],
   "source": [
    "def stockfish_evaluation(board, time_limit = 0.01):\n",
    "    engine = chess.engine.SimpleEngine.popen_uci(path)\n",
    "    result = engine.analyse(board, chess.engine.Limit(time=time_limit))\n",
    "    return result['score']\n",
    "\n",
    "def evaluate_move(stockfish,fen,move):\n",
    "    board = chess.Board(fen)\n",
    "    board.push_uci(move)\n",
    "    return stockfish_evaluation(board)\n",
    "\n",
    "board = chess.Board(fen)\n",
    "result = stockfish_evaluation(board)\n",
    "\n",
    "stockfish = Stockfish(path)"
   ]
  },
  {
   "cell_type": "code",
   "execution_count": 17,
   "metadata": {},
   "outputs": [
    {
     "name": "stdout",
     "output_type": "stream",
     "text": [
      "[-43, -94, -149, -243, -117, -147, -545, -66, -171, -120, -103, -205, -60, -550, -136, -122, -203, 27, -627, -402, -291, -645, -435, -506, -527, -66, -503, -291, -593, -519, -611, -404, -408, -287, -408, -754, -443, -449, -713, -590, -638, -982, -523, -611, -705, -1075, -692, 0, -1009, -642]\n"
     ]
    }
   ],
   "source": [
    "score = []\n",
    "\n",
    "for i in range(len(data)):\n",
    "    move = data[i]\n",
    "    fen = df['FEN'][i]\n",
    "    if 'w' in fen:\n",
    "        end = evaluate_move(stockfish, fen, move).white().score()\n",
    "        if type(end) == type(None):\n",
    "            score.append(0)\n",
    "        else:\n",
    "            score.append(end - int(df['Evaluation'][i]))\n",
    "    else:\n",
    "        end = evaluate_move(stockfish, fen, move).black().score()\n",
    "        if type(end) == type(None):\n",
    "            score.append(0)\n",
    "        else:\n",
    "            score.append(end - int(df['Evaluation'][i]))\n",
    "        \n",
    "print(score)"
   ]
  }
 ],
 "metadata": {
  "kernelspec": {
   "display_name": "venv-fagprojekt",
   "language": "python",
   "name": "python3"
  },
  "language_info": {
   "codemirror_mode": {
    "name": "ipython",
    "version": 3
   },
   "file_extension": ".py",
   "mimetype": "text/x-python",
   "name": "python",
   "nbconvert_exporter": "python",
   "pygments_lexer": "ipython3",
   "version": "3.12.3"
  }
 },
 "nbformat": 4,
 "nbformat_minor": 2
}
