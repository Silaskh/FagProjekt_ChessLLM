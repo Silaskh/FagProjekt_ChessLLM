{
 "cells": [
  {
   "cell_type": "code",
   "execution_count": 1,
   "metadata": {},
   "outputs": [],
   "source": [
    "import matplotlib.pyplot as plt\n",
    "import numpy as np\n",
    "import seaborn as sns\n",
    "import matplotlib.pyplot as plt\n",
    "import pandas as pd\n",
    "from stockfish import Stockfish\n",
    "import chess\n",
    "import chess.engine\n",
    "import math\n",
    "import random"
   ]
  },
  {
   "cell_type": "code",
   "execution_count": 2,
   "metadata": {},
   "outputs": [],
   "source": [
    "# data = pd.read_csv('Valgte punkter fra ensemble')\n",
    "df = pd.read_csv(r\"chessData.csv\")"
   ]
  },
  {
   "cell_type": "code",
   "execution_count": 3,
   "metadata": {},
   "outputs": [],
   "source": [
    "data = ['a7a6', 'a2a3', 'b7b6']"
   ]
  },
  {
   "cell_type": "code",
   "execution_count": 4,
   "metadata": {},
   "outputs": [
    {
     "name": "stderr",
     "output_type": "stream",
     "text": [
      "<>:1: SyntaxWarning: invalid escape sequence '\\s'\n",
      "<>:1: SyntaxWarning: invalid escape sequence '\\s'\n",
      "C:\\Users\\nunni\\AppData\\Local\\Temp\\ipykernel_16672\\315037162.py:1: SyntaxWarning: invalid escape sequence '\\s'\n",
      "  path=(\"stockfish-windows-x86-64\\stockfish\\stockfish-windows-x86-64.exe\")\n"
     ]
    }
   ],
   "source": [
    "path=(\"stockfish-windows-x86-64\\stockfish\\stockfish-windows-x86-64.exe\")"
   ]
  },
  {
   "cell_type": "code",
   "execution_count": 5,
   "metadata": {},
   "outputs": [],
   "source": [
    "fen=(\"rnbqkbnr/pppp1ppp/4p3/8/4P3/8/PPPP1PPP/RNBQKBNR w KQkq - 0 2\")"
   ]
  },
  {
   "cell_type": "code",
   "execution_count": 6,
   "metadata": {},
   "outputs": [],
   "source": [
    "def stockfish_evaluation(board, time_limit = 0.01):\n",
    "    engine = chess.engine.SimpleEngine.popen_uci(path)\n",
    "    result = engine.analyse(board, chess.engine.Limit(time=time_limit))\n",
    "    return result['score']\n",
    "\n",
    "def evaluate_move(stockfish,fen,move):\n",
    "    board = chess.Board(fen)\n",
    "    board.push_uci(move)\n",
    "    return stockfish_evaluation(board)\n",
    "\n",
    "board = chess.Board(fen)\n",
    "result = stockfish_evaluation(board)\n",
    "\n",
    "stockfish = Stockfish(path)"
   ]
  },
  {
   "cell_type": "code",
   "execution_count": 7,
   "metadata": {},
   "outputs": [
    {
     "name": "stdout",
     "output_type": "stream",
     "text": [
      "[-57, -51, -88]\n"
     ]
    }
   ],
   "source": [
    "score = []\n",
    "\n",
    "for i in range(len(data)):\n",
    "    move = data[i]\n",
    "    fen = df['FEN'][i]\n",
    "    if 'w' in fen:\n",
    "        end = evaluate_move(stockfish, fen, move).white().score()\n",
    "        score.append(end - int(df['Evaluation'][i]))\n",
    "    else:\n",
    "        end = evaluate_move(stockfish, fen, move).black().score()\n",
    "        score.append(end - int(df['Evaluation'][i]))\n",
    "        \n",
    "print(score)"
   ]
  },
  {
   "cell_type": "code",
   "execution_count": 8,
   "metadata": {},
   "outputs": [],
   "source": [
    "def evaluate_list_white(stockfish,fen,list):\n",
    "    res = []\n",
    "    for move in list:\n",
    "        res.append(evaluate_move(stockfish,fen,move).white().score())\n",
    "    return res\n",
    "\n",
    "def evaluate_list_black(stockfish,fen,list):\n",
    "    res = []\n",
    "    for move in list:\n",
    "        res.append(evaluate_move(stockfish,fen,move).black().score())\n",
    "    return res\n",
    "\n",
    "def gen_legal_moves(board,frac=1):\n",
    "    legal_moves = board.legal_moves\n",
    "    legal_moves = [str(move) for move in legal_moves]\n",
    "    if frac == 1:\n",
    "        return legal_moves\n",
    "    else:\n",
    "        return np.random.choice(legal_moves, math.floor(frac*len(legal_moves)), replace=False)"
   ]
  },
  {
   "cell_type": "code",
   "execution_count": 12,
   "metadata": {},
   "outputs": [
    {
     "name": "stderr",
     "output_type": "stream",
     "text": [
      "<UciProtocol (pid=15192)>: stderr >> terminate called after throwing an instance of 'std::bad_alloc'\n",
      "<UciProtocol (pid=15192)>: stderr >>   what():  std::bad_alloc\n"
     ]
    },
    {
     "ename": "EngineTerminatedError",
     "evalue": "engine process died unexpectedly (exit code: 3)",
     "output_type": "error",
     "traceback": [
      "\u001b[1;31m---------------------------------------------------------------------------\u001b[0m",
      "\u001b[1;31mEngineTerminatedError\u001b[0m                     Traceback (most recent call last)",
      "Cell \u001b[1;32mIn[12], line 10\u001b[0m\n\u001b[0;32m      8\u001b[0m         mean_score\u001b[38;5;241m.\u001b[39mappend(\u001b[38;5;28msum\u001b[39m(move_score[\u001b[38;5;241m0\u001b[39m][j] \u001b[38;5;241m-\u001b[39m \u001b[38;5;28mint\u001b[39m(df[\u001b[38;5;124m'\u001b[39m\u001b[38;5;124mEvaluation\u001b[39m\u001b[38;5;124m'\u001b[39m][i]))\u001b[38;5;241m/\u001b[39m\u001b[38;5;28mlen\u001b[39m(\u001b[38;5;28mrange\u001b[39m(\u001b[38;5;28mlen\u001b[39m(move_score))))\n\u001b[0;32m      9\u001b[0m \u001b[38;5;28;01melse\u001b[39;00m:\n\u001b[1;32m---> 10\u001b[0m     move_score \u001b[38;5;241m=\u001b[39m \u001b[43mevaluate_list_black\u001b[49m\u001b[43m(\u001b[49m\u001b[43mstockfish\u001b[49m\u001b[43m,\u001b[49m\u001b[43mfen\u001b[49m\u001b[43m,\u001b[49m\u001b[43mgen_legal_moves\u001b[49m\u001b[43m(\u001b[49m\u001b[43mchess\u001b[49m\u001b[38;5;241;43m.\u001b[39;49m\u001b[43mBoard\u001b[49m\u001b[43m(\u001b[49m\u001b[43mfen\u001b[49m\u001b[43m)\u001b[49m\u001b[43m)\u001b[49m\u001b[43m)\u001b[49m,\u001b[38;5;124m\"\u001b[39m\u001b[38;5;130;01m\\n\u001b[39;00m\u001b[38;5;124m\"\u001b[39m,gen_legal_moves(chess\u001b[38;5;241m.\u001b[39mBoard(fen))\n\u001b[0;32m     11\u001b[0m     \u001b[38;5;28;01mfor\u001b[39;00m j \u001b[38;5;129;01min\u001b[39;00m \u001b[38;5;28mrange\u001b[39m(\u001b[38;5;28mlen\u001b[39m(move_score[\u001b[38;5;241m0\u001b[39m])):\n\u001b[0;32m     12\u001b[0m         mean_score\u001b[38;5;241m.\u001b[39mappend(\u001b[38;5;28msum\u001b[39m(move_score[\u001b[38;5;241m0\u001b[39m][j] \u001b[38;5;241m-\u001b[39m \u001b[38;5;28mint\u001b[39m(df[\u001b[38;5;124m'\u001b[39m\u001b[38;5;124mEvaluation\u001b[39m\u001b[38;5;124m'\u001b[39m][i]))\u001b[38;5;241m/\u001b[39m\u001b[38;5;28mlen\u001b[39m(\u001b[38;5;28mrange\u001b[39m(\u001b[38;5;28mlen\u001b[39m(move_score))))\n",
      "Cell \u001b[1;32mIn[8], line 10\u001b[0m, in \u001b[0;36mevaluate_list_black\u001b[1;34m(stockfish, fen, list)\u001b[0m\n\u001b[0;32m      8\u001b[0m res \u001b[38;5;241m=\u001b[39m []\n\u001b[0;32m      9\u001b[0m \u001b[38;5;28;01mfor\u001b[39;00m move \u001b[38;5;129;01min\u001b[39;00m \u001b[38;5;28mlist\u001b[39m:\n\u001b[1;32m---> 10\u001b[0m     res\u001b[38;5;241m.\u001b[39mappend(\u001b[43mevaluate_move\u001b[49m\u001b[43m(\u001b[49m\u001b[43mstockfish\u001b[49m\u001b[43m,\u001b[49m\u001b[43mfen\u001b[49m\u001b[43m,\u001b[49m\u001b[43mmove\u001b[49m\u001b[43m)\u001b[49m\u001b[38;5;241m.\u001b[39mblack()\u001b[38;5;241m.\u001b[39mscore())\n\u001b[0;32m     11\u001b[0m \u001b[38;5;28;01mreturn\u001b[39;00m res\n",
      "Cell \u001b[1;32mIn[6], line 9\u001b[0m, in \u001b[0;36mevaluate_move\u001b[1;34m(stockfish, fen, move)\u001b[0m\n\u001b[0;32m      7\u001b[0m board \u001b[38;5;241m=\u001b[39m chess\u001b[38;5;241m.\u001b[39mBoard(fen)\n\u001b[0;32m      8\u001b[0m board\u001b[38;5;241m.\u001b[39mpush_uci(move)\n\u001b[1;32m----> 9\u001b[0m \u001b[38;5;28;01mreturn\u001b[39;00m \u001b[43mstockfish_evaluation\u001b[49m\u001b[43m(\u001b[49m\u001b[43mboard\u001b[49m\u001b[43m)\u001b[49m\n",
      "Cell \u001b[1;32mIn[6], line 2\u001b[0m, in \u001b[0;36mstockfish_evaluation\u001b[1;34m(board, time_limit)\u001b[0m\n\u001b[0;32m      1\u001b[0m \u001b[38;5;28;01mdef\u001b[39;00m \u001b[38;5;21mstockfish_evaluation\u001b[39m(board, time_limit \u001b[38;5;241m=\u001b[39m \u001b[38;5;241m0.01\u001b[39m):\n\u001b[1;32m----> 2\u001b[0m     engine \u001b[38;5;241m=\u001b[39m \u001b[43mchess\u001b[49m\u001b[38;5;241;43m.\u001b[39;49m\u001b[43mengine\u001b[49m\u001b[38;5;241;43m.\u001b[39;49m\u001b[43mSimpleEngine\u001b[49m\u001b[38;5;241;43m.\u001b[39;49m\u001b[43mpopen_uci\u001b[49m\u001b[43m(\u001b[49m\u001b[43mpath\u001b[49m\u001b[43m)\u001b[49m\n\u001b[0;32m      3\u001b[0m     result \u001b[38;5;241m=\u001b[39m engine\u001b[38;5;241m.\u001b[39manalyse(board, chess\u001b[38;5;241m.\u001b[39mengine\u001b[38;5;241m.\u001b[39mLimit(time\u001b[38;5;241m=\u001b[39mtime_limit))\n\u001b[0;32m      4\u001b[0m     \u001b[38;5;28;01mreturn\u001b[39;00m result[\u001b[38;5;124m'\u001b[39m\u001b[38;5;124mscore\u001b[39m\u001b[38;5;124m'\u001b[39m]\n",
      "File \u001b[1;32mc:\\Users\\nunni\\miniconda3\\envs\\venv-fagprojekt\\Lib\\site-packages\\chess\\engine.py:3054\u001b[0m, in \u001b[0;36mSimpleEngine.popen_uci\u001b[1;34m(cls, command, timeout, debug, setpgrp, **popen_args)\u001b[0m\n\u001b[0;32m   3048\u001b[0m \u001b[38;5;129m@classmethod\u001b[39m\n\u001b[0;32m   3049\u001b[0m \u001b[38;5;28;01mdef\u001b[39;00m \u001b[38;5;21mpopen_uci\u001b[39m(\u001b[38;5;28mcls\u001b[39m, command: Union[\u001b[38;5;28mstr\u001b[39m, List[\u001b[38;5;28mstr\u001b[39m]], \u001b[38;5;241m*\u001b[39m, timeout: Optional[\u001b[38;5;28mfloat\u001b[39m] \u001b[38;5;241m=\u001b[39m \u001b[38;5;241m10.0\u001b[39m, debug: \u001b[38;5;28mbool\u001b[39m \u001b[38;5;241m=\u001b[39m \u001b[38;5;28;01mFalse\u001b[39;00m, setpgrp: \u001b[38;5;28mbool\u001b[39m \u001b[38;5;241m=\u001b[39m \u001b[38;5;28;01mFalse\u001b[39;00m, \u001b[38;5;241m*\u001b[39m\u001b[38;5;241m*\u001b[39mpopen_args: Any) \u001b[38;5;241m-\u001b[39m\u001b[38;5;241m>\u001b[39m SimpleEngine:\n\u001b[0;32m   3050\u001b[0m \u001b[38;5;250m    \u001b[39m\u001b[38;5;124;03m\"\"\"\u001b[39;00m\n\u001b[0;32m   3051\u001b[0m \u001b[38;5;124;03m    Spawns and initializes a UCI engine.\u001b[39;00m\n\u001b[0;32m   3052\u001b[0m \u001b[38;5;124;03m    Returns a :class:`~chess.engine.SimpleEngine` instance.\u001b[39;00m\n\u001b[0;32m   3053\u001b[0m \u001b[38;5;124;03m    \"\"\"\u001b[39;00m\n\u001b[1;32m-> 3054\u001b[0m     \u001b[38;5;28;01mreturn\u001b[39;00m \u001b[38;5;28;43mcls\u001b[39;49m\u001b[38;5;241;43m.\u001b[39;49m\u001b[43mpopen\u001b[49m\u001b[43m(\u001b[49m\u001b[43mUciProtocol\u001b[49m\u001b[43m,\u001b[49m\u001b[43m \u001b[49m\u001b[43mcommand\u001b[49m\u001b[43m,\u001b[49m\u001b[43m \u001b[49m\u001b[43mtimeout\u001b[49m\u001b[38;5;241;43m=\u001b[39;49m\u001b[43mtimeout\u001b[49m\u001b[43m,\u001b[49m\u001b[43m \u001b[49m\u001b[43mdebug\u001b[49m\u001b[38;5;241;43m=\u001b[39;49m\u001b[43mdebug\u001b[49m\u001b[43m,\u001b[49m\u001b[43m \u001b[49m\u001b[43msetpgrp\u001b[49m\u001b[38;5;241;43m=\u001b[39;49m\u001b[43msetpgrp\u001b[49m\u001b[43m,\u001b[49m\u001b[43m \u001b[49m\u001b[38;5;241;43m*\u001b[39;49m\u001b[38;5;241;43m*\u001b[39;49m\u001b[43mpopen_args\u001b[49m\u001b[43m)\u001b[49m\n",
      "File \u001b[1;32mc:\\Users\\nunni\\miniconda3\\envs\\venv-fagprojekt\\Lib\\site-packages\\chess\\engine.py:3046\u001b[0m, in \u001b[0;36mSimpleEngine.popen\u001b[1;34m(cls, Protocol, command, timeout, debug, setpgrp, **popen_args)\u001b[0m\n\u001b[0;32m   3043\u001b[0m         simple_engine\u001b[38;5;241m.\u001b[39mclose()\n\u001b[0;32m   3044\u001b[0m     \u001b[38;5;28;01mawait\u001b[39;00m simple_engine\u001b[38;5;241m.\u001b[39mshutdown_event\u001b[38;5;241m.\u001b[39mwait()\n\u001b[1;32m-> 3046\u001b[0m \u001b[38;5;28;01mreturn\u001b[39;00m \u001b[43mrun_in_background\u001b[49m\u001b[43m(\u001b[49m\u001b[43mbackground\u001b[49m\u001b[43m,\u001b[49m\u001b[43m \u001b[49m\u001b[43mname\u001b[49m\u001b[38;5;241;43m=\u001b[39;49m\u001b[38;5;124;43mf\u001b[39;49m\u001b[38;5;124;43m\"\u001b[39;49m\u001b[38;5;132;43;01m{\u001b[39;49;00m\u001b[38;5;28;43mcls\u001b[39;49m\u001b[38;5;241;43m.\u001b[39;49m\u001b[38;5;18;43m__name__\u001b[39;49m\u001b[38;5;132;43;01m}\u001b[39;49;00m\u001b[38;5;124;43m (command=\u001b[39;49m\u001b[38;5;132;43;01m{\u001b[39;49;00m\u001b[43mcommand\u001b[49m\u001b[38;5;132;43;01m!r}\u001b[39;49;00m\u001b[38;5;124;43m)\u001b[39;49m\u001b[38;5;124;43m\"\u001b[39;49m\u001b[43m,\u001b[49m\u001b[43m \u001b[49m\u001b[43mdebug\u001b[49m\u001b[38;5;241;43m=\u001b[39;49m\u001b[43mdebug\u001b[49m\u001b[43m)\u001b[49m\n",
      "File \u001b[1;32mc:\\Users\\nunni\\miniconda3\\envs\\venv-fagprojekt\\Lib\\site-packages\\chess\\engine.py:201\u001b[0m, in \u001b[0;36mrun_in_background\u001b[1;34m(coroutine, name, debug, _policy_lock)\u001b[0m\n\u001b[0;32m    198\u001b[0m         future\u001b[38;5;241m.\u001b[39mset_exception(exc)\n\u001b[0;32m    200\u001b[0m threading\u001b[38;5;241m.\u001b[39mThread(target\u001b[38;5;241m=\u001b[39mbackground, name\u001b[38;5;241m=\u001b[39mname)\u001b[38;5;241m.\u001b[39mstart()\n\u001b[1;32m--> 201\u001b[0m \u001b[38;5;28;01mreturn\u001b[39;00m \u001b[43mfuture\u001b[49m\u001b[38;5;241;43m.\u001b[39;49m\u001b[43mresult\u001b[49m\u001b[43m(\u001b[49m\u001b[43m)\u001b[49m\n",
      "File \u001b[1;32mc:\\Users\\nunni\\miniconda3\\envs\\venv-fagprojekt\\Lib\\concurrent\\futures\\_base.py:456\u001b[0m, in \u001b[0;36mFuture.result\u001b[1;34m(self, timeout)\u001b[0m\n\u001b[0;32m    454\u001b[0m     \u001b[38;5;28;01mraise\u001b[39;00m CancelledError()\n\u001b[0;32m    455\u001b[0m \u001b[38;5;28;01melif\u001b[39;00m \u001b[38;5;28mself\u001b[39m\u001b[38;5;241m.\u001b[39m_state \u001b[38;5;241m==\u001b[39m FINISHED:\n\u001b[1;32m--> 456\u001b[0m     \u001b[38;5;28;01mreturn\u001b[39;00m \u001b[38;5;28;43mself\u001b[39;49m\u001b[38;5;241;43m.\u001b[39;49m\u001b[43m__get_result\u001b[49m\u001b[43m(\u001b[49m\u001b[43m)\u001b[49m\n\u001b[0;32m    457\u001b[0m \u001b[38;5;28;01melse\u001b[39;00m:\n\u001b[0;32m    458\u001b[0m     \u001b[38;5;28;01mraise\u001b[39;00m \u001b[38;5;167;01mTimeoutError\u001b[39;00m()\n",
      "File \u001b[1;32mc:\\Users\\nunni\\miniconda3\\envs\\venv-fagprojekt\\Lib\\concurrent\\futures\\_base.py:401\u001b[0m, in \u001b[0;36mFuture.__get_result\u001b[1;34m(self)\u001b[0m\n\u001b[0;32m    399\u001b[0m \u001b[38;5;28;01mif\u001b[39;00m \u001b[38;5;28mself\u001b[39m\u001b[38;5;241m.\u001b[39m_exception:\n\u001b[0;32m    400\u001b[0m     \u001b[38;5;28;01mtry\u001b[39;00m:\n\u001b[1;32m--> 401\u001b[0m         \u001b[38;5;28;01mraise\u001b[39;00m \u001b[38;5;28mself\u001b[39m\u001b[38;5;241m.\u001b[39m_exception\n\u001b[0;32m    402\u001b[0m     \u001b[38;5;28;01mfinally\u001b[39;00m:\n\u001b[0;32m    403\u001b[0m         \u001b[38;5;66;03m# Break a reference cycle with the exception in self._exception\u001b[39;00m\n\u001b[0;32m    404\u001b[0m         \u001b[38;5;28mself\u001b[39m \u001b[38;5;241m=\u001b[39m \u001b[38;5;28;01mNone\u001b[39;00m\n",
      "File \u001b[1;32mc:\\Users\\nunni\\miniconda3\\envs\\venv-fagprojekt\\Lib\\site-packages\\chess\\engine.py:195\u001b[0m, in \u001b[0;36mrun_in_background.<locals>.background\u001b[1;34m()\u001b[0m\n\u001b[0;32m    193\u001b[0m \u001b[38;5;28;01mdef\u001b[39;00m \u001b[38;5;21mbackground\u001b[39m() \u001b[38;5;241m-\u001b[39m\u001b[38;5;241m>\u001b[39m \u001b[38;5;28;01mNone\u001b[39;00m:\n\u001b[0;32m    194\u001b[0m     \u001b[38;5;28;01mtry\u001b[39;00m:\n\u001b[1;32m--> 195\u001b[0m         \u001b[43masyncio\u001b[49m\u001b[38;5;241;43m.\u001b[39;49m\u001b[43mrun\u001b[49m\u001b[43m(\u001b[49m\u001b[43mcoroutine\u001b[49m\u001b[43m(\u001b[49m\u001b[43mfuture\u001b[49m\u001b[43m)\u001b[49m\u001b[43m)\u001b[49m\n\u001b[0;32m    196\u001b[0m         future\u001b[38;5;241m.\u001b[39mcancel()\n\u001b[0;32m    197\u001b[0m     \u001b[38;5;28;01mexcept\u001b[39;00m \u001b[38;5;167;01mException\u001b[39;00m \u001b[38;5;28;01mas\u001b[39;00m exc:\n",
      "File \u001b[1;32mc:\\Users\\nunni\\miniconda3\\envs\\venv-fagprojekt\\Lib\\asyncio\\runners.py:194\u001b[0m, in \u001b[0;36mrun\u001b[1;34m(main, debug, loop_factory)\u001b[0m\n\u001b[0;32m    190\u001b[0m     \u001b[38;5;28;01mraise\u001b[39;00m \u001b[38;5;167;01mRuntimeError\u001b[39;00m(\n\u001b[0;32m    191\u001b[0m         \u001b[38;5;124m\"\u001b[39m\u001b[38;5;124masyncio.run() cannot be called from a running event loop\u001b[39m\u001b[38;5;124m\"\u001b[39m)\n\u001b[0;32m    193\u001b[0m \u001b[38;5;28;01mwith\u001b[39;00m Runner(debug\u001b[38;5;241m=\u001b[39mdebug, loop_factory\u001b[38;5;241m=\u001b[39mloop_factory) \u001b[38;5;28;01mas\u001b[39;00m runner:\n\u001b[1;32m--> 194\u001b[0m     \u001b[38;5;28;01mreturn\u001b[39;00m \u001b[43mrunner\u001b[49m\u001b[38;5;241;43m.\u001b[39;49m\u001b[43mrun\u001b[49m\u001b[43m(\u001b[49m\u001b[43mmain\u001b[49m\u001b[43m)\u001b[49m\n",
      "File \u001b[1;32mc:\\Users\\nunni\\miniconda3\\envs\\venv-fagprojekt\\Lib\\asyncio\\runners.py:118\u001b[0m, in \u001b[0;36mRunner.run\u001b[1;34m(self, coro, context)\u001b[0m\n\u001b[0;32m    116\u001b[0m \u001b[38;5;28mself\u001b[39m\u001b[38;5;241m.\u001b[39m_interrupt_count \u001b[38;5;241m=\u001b[39m \u001b[38;5;241m0\u001b[39m\n\u001b[0;32m    117\u001b[0m \u001b[38;5;28;01mtry\u001b[39;00m:\n\u001b[1;32m--> 118\u001b[0m     \u001b[38;5;28;01mreturn\u001b[39;00m \u001b[38;5;28;43mself\u001b[39;49m\u001b[38;5;241;43m.\u001b[39;49m\u001b[43m_loop\u001b[49m\u001b[38;5;241;43m.\u001b[39;49m\u001b[43mrun_until_complete\u001b[49m\u001b[43m(\u001b[49m\u001b[43mtask\u001b[49m\u001b[43m)\u001b[49m\n\u001b[0;32m    119\u001b[0m \u001b[38;5;28;01mexcept\u001b[39;00m exceptions\u001b[38;5;241m.\u001b[39mCancelledError:\n\u001b[0;32m    120\u001b[0m     \u001b[38;5;28;01mif\u001b[39;00m \u001b[38;5;28mself\u001b[39m\u001b[38;5;241m.\u001b[39m_interrupt_count \u001b[38;5;241m>\u001b[39m \u001b[38;5;241m0\u001b[39m:\n",
      "File \u001b[1;32mc:\\Users\\nunni\\miniconda3\\envs\\venv-fagprojekt\\Lib\\asyncio\\base_events.py:687\u001b[0m, in \u001b[0;36mBaseEventLoop.run_until_complete\u001b[1;34m(self, future)\u001b[0m\n\u001b[0;32m    684\u001b[0m \u001b[38;5;28;01mif\u001b[39;00m \u001b[38;5;129;01mnot\u001b[39;00m future\u001b[38;5;241m.\u001b[39mdone():\n\u001b[0;32m    685\u001b[0m     \u001b[38;5;28;01mraise\u001b[39;00m \u001b[38;5;167;01mRuntimeError\u001b[39;00m(\u001b[38;5;124m'\u001b[39m\u001b[38;5;124mEvent loop stopped before Future completed.\u001b[39m\u001b[38;5;124m'\u001b[39m)\n\u001b[1;32m--> 687\u001b[0m \u001b[38;5;28;01mreturn\u001b[39;00m \u001b[43mfuture\u001b[49m\u001b[38;5;241;43m.\u001b[39;49m\u001b[43mresult\u001b[49m\u001b[43m(\u001b[49m\u001b[43m)\u001b[49m\n",
      "File \u001b[1;32mc:\\Users\\nunni\\miniconda3\\envs\\venv-fagprojekt\\Lib\\site-packages\\chess\\engine.py:3038\u001b[0m, in \u001b[0;36mSimpleEngine.popen.<locals>.background\u001b[1;34m(future)\u001b[0m\n\u001b[0;32m   3036\u001b[0m simple_engine \u001b[38;5;241m=\u001b[39m \u001b[38;5;28mcls\u001b[39m(transport, protocol, timeout\u001b[38;5;241m=\u001b[39mtimeout)\n\u001b[0;32m   3037\u001b[0m \u001b[38;5;28;01mtry\u001b[39;00m:\n\u001b[1;32m-> 3038\u001b[0m     \u001b[38;5;28;01mawait\u001b[39;00m asyncio\u001b[38;5;241m.\u001b[39mwait_for(protocol\u001b[38;5;241m.\u001b[39minitialize(), timeout)\n\u001b[0;32m   3039\u001b[0m     future\u001b[38;5;241m.\u001b[39mset_result(simple_engine)\n\u001b[0;32m   3040\u001b[0m     returncode \u001b[38;5;241m=\u001b[39m \u001b[38;5;28;01mawait\u001b[39;00m protocol\u001b[38;5;241m.\u001b[39mreturncode\n",
      "File \u001b[1;32mc:\\Users\\nunni\\miniconda3\\envs\\venv-fagprojekt\\Lib\\asyncio\\tasks.py:520\u001b[0m, in \u001b[0;36mwait_for\u001b[1;34m(fut, timeout)\u001b[0m\n\u001b[0;32m    517\u001b[0m         \u001b[38;5;28;01mraise\u001b[39;00m \u001b[38;5;167;01mTimeoutError\u001b[39;00m \u001b[38;5;28;01mfrom\u001b[39;00m \u001b[38;5;21;01mexc\u001b[39;00m\n\u001b[0;32m    519\u001b[0m \u001b[38;5;28;01masync\u001b[39;00m \u001b[38;5;28;01mwith\u001b[39;00m timeouts\u001b[38;5;241m.\u001b[39mtimeout(timeout):\n\u001b[1;32m--> 520\u001b[0m     \u001b[38;5;28;01mreturn\u001b[39;00m \u001b[38;5;28;01mawait\u001b[39;00m fut\n",
      "File \u001b[1;32mc:\\Users\\nunni\\miniconda3\\envs\\venv-fagprojekt\\Lib\\site-packages\\chess\\engine.py:1510\u001b[0m, in \u001b[0;36mUciProtocol.initialize\u001b[1;34m(self)\u001b[0m\n\u001b[0;32m   1507\u001b[0m         key, value \u001b[38;5;241m=\u001b[39m arg\u001b[38;5;241m.\u001b[39msplit(\u001b[38;5;124m\"\u001b[39m\u001b[38;5;124m \u001b[39m\u001b[38;5;124m\"\u001b[39m, \u001b[38;5;241m1\u001b[39m)\n\u001b[0;32m   1508\u001b[0m         engine\u001b[38;5;241m.\u001b[39mid[key] \u001b[38;5;241m=\u001b[39m value\n\u001b[1;32m-> 1510\u001b[0m \u001b[38;5;28;01mreturn\u001b[39;00m \u001b[38;5;28;01mawait\u001b[39;00m \u001b[38;5;28mself\u001b[39m\u001b[38;5;241m.\u001b[39mcommunicate(UciInitializeCommand)\n",
      "File \u001b[1;32mc:\\Users\\nunni\\miniconda3\\envs\\venv-fagprojekt\\Lib\\site-packages\\chess\\engine.py:1133\u001b[0m, in \u001b[0;36mProtocol.communicate\u001b[1;34m(self, command_factory)\u001b[0m\n\u001b[0;32m   1130\u001b[0m \u001b[38;5;28;01melif\u001b[39;00m \u001b[38;5;129;01mnot\u001b[39;00m \u001b[38;5;28mself\u001b[39m\u001b[38;5;241m.\u001b[39mcommand\u001b[38;5;241m.\u001b[39mresult\u001b[38;5;241m.\u001b[39mcancelled():\n\u001b[0;32m   1131\u001b[0m     \u001b[38;5;28mself\u001b[39m\u001b[38;5;241m.\u001b[39mcommand\u001b[38;5;241m.\u001b[39m_cancel(\u001b[38;5;28mself\u001b[39m)\n\u001b[1;32m-> 1133\u001b[0m \u001b[38;5;28;01mreturn\u001b[39;00m \u001b[38;5;28;01mawait\u001b[39;00m command\u001b[38;5;241m.\u001b[39mresult\n",
      "\u001b[1;31mEngineTerminatedError\u001b[0m: engine process died unexpectedly (exit code: 3)"
     ]
    }
   ],
   "source": [
    "mean_score = []\n",
    "for i in range(len(data)):\n",
    "    move = data[i]\n",
    "    fen = df['FEN'][i]\n",
    "    if 'w' in fen:\n",
    "        move_score = evaluate_list_white(stockfish,fen,gen_legal_moves(chess.Board(fen))),\"\\n\",gen_legal_moves(chess.Board(fen))\n",
    "        for j in range(len(move_score[0])):\n",
    "            mean_score.append(sum(move_score[0][j] - int(df['Evaluation'][i]))/len(range(len(move_score))))\n",
    "    else:\n",
    "        move_score = evaluate_list_black(stockfish,fen,gen_legal_moves(chess.Board(fen))),\"\\n\",gen_legal_moves(chess.Board(fen))\n",
    "        for j in range(len(move_score[0])):\n",
    "            mean_score.append(sum(move_score[0][j] - int(df['Evaluation'][i]))/len(range(len(move_score))))\n",
    "    \n",
    "        \n",
    "print(move_score)"
   ]
  }
 ],
 "metadata": {
  "kernelspec": {
   "display_name": "venv-fagprojekt",
   "language": "python",
   "name": "python3"
  },
  "language_info": {
   "codemirror_mode": {
    "name": "ipython",
    "version": 3
   },
   "file_extension": ".py",
   "mimetype": "text/x-python",
   "name": "python",
   "nbconvert_exporter": "python",
   "pygments_lexer": "ipython3",
   "version": "3.12.3"
  }
 },
 "nbformat": 4,
 "nbformat_minor": 2
}
