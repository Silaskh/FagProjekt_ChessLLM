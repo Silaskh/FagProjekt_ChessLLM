{
 "cells": [
  {
   "cell_type": "code",
   "execution_count": 1,
   "metadata": {},
   "outputs": [],
   "source": [
    "# Importing all relevant and necessary modules\n",
    "import numpy as np \n",
    "import pandas as pd \n",
    "import os\n",
    "import chess\n",
    "import math\n",
    "import matplotlib.pyplot as plt\n",
    "import ollama\n",
    "import random\n"
   ]
  },
  {
   "cell_type": "code",
   "execution_count": 21,
   "metadata": {},
   "outputs": [],
   "source": [
    "def gen_legal_moves(board,frac=1):\n",
    "    legal_moves = board.legal_moves\n",
    "    legal_moves = [str(move) for move in legal_moves]\n",
    "    if frac == 1:\n",
    "        return legal_moves\n",
    "    else:\n",
    "        return np.random.choice(legal_moves, math.floor(frac*len(legal_moves)), replace=False)\n",
    "\n",
    "def gen_prompt2(board,moves, n=10):\n",
    "    # return f\"You are playing chess and the board state is {board}. Here you are given a list of legal moves {random.shuffle(moves)}. You have to chose the best move to make next from the list of legal moves, please provide an explanation as to why you chose this move and also provide it in UCI notation?\"\n",
    "    return f\"You are playing chess and the board state is {board}. Here you are given a given a list of legal moves {moves}. Please sort this list in order to\"\n",
    "    \n",
    "def gen_legal_moves(board,frac=1):\n",
    "    legal_moves = board.legal_moves\n",
    "    legal_moves = [str(move) for move in legal_moves]\n",
    "    if frac == 1:\n",
    "        return legal_moves\n",
    "    else:\n",
    "        return np.random.choice(legal_moves, math.floor(frac*len(legal_moves)), replace=False)\n",
    "\n",
    "def prompt_move(prompt,board):\n",
    "    response = ollama.chat(model='llama2', messages=[\n",
    "            {'role': 'user','content': prompt,},])\n",
    "    move = response['message']['content']\n",
    "    moves = []\n",
    "    for k in range(len(move)):\n",
    "        if move[k:k+4] in gen_legal_moves(board):\n",
    "            moves.append(move[k:k+4])\n",
    "    return moves"
   ]
  },
  {
   "cell_type": "code",
   "execution_count": 3,
   "metadata": {},
   "outputs": [],
   "source": [
    "df = pd.read_csv(r\"chessData.csv\")"
   ]
  },
  {
   "cell_type": "code",
   "execution_count": 4,
   "metadata": {},
   "outputs": [],
   "source": [
    "# def prompt_ensemble(size,fen):\n",
    "#     moves = {}  #Dictionary to store the moves and their frequencies\n",
    "#     for i in range(size):\n",
    "#         board = chess.Board(fen)\n",
    "#         move = prompt_move(gen_prompt2(board,gen_legal_moves(board)),board)\n",
    "#         if move in moves:\n",
    "#             moves[move] += 1 #Increment the frequency of the move\n",
    "#         else:\n",
    "#             moves[move] = 1 #Add the move to the dictionary\n",
    "#     return moves\n",
    "\n",
    "# def ensemble_manager(df,sizes):\n",
    "#     ensemble = {}\n",
    "#     for size in sizes:\n",
    "#         ensemble[size] = prompt_ensemble(size,df['FEN'][0]) #df['FEN'][0] is the first FEN in the dataset change for iteration over all FENs\n",
    "\n",
    "#     return ensemble"
   ]
  },
  {
   "cell_type": "code",
   "execution_count": 22,
   "metadata": {},
   "outputs": [],
   "source": [
    "fen = df['FEN'][0]\n",
    "board = chess.Board(fen)\n",
    "moves = gen_legal_moves(chess.Board(fen))\n",
    "prompt = f\"You are playing chess and the board state is {board}. Here you are given a given a list of legal moves {moves}. Please sort and provide this exact list in prioritized order.\"\n",
    "size = 5\n",
    "list = prompt_move(prompt,board)"
   ]
  },
  {
   "cell_type": "code",
   "execution_count": 23,
   "metadata": {},
   "outputs": [
    {
     "data": {
      "text/plain": [
       "['g8h6',\n",
       " 'g8f6',\n",
       " 'b8c6',\n",
       " 'b8a6',\n",
       " 'h7h6',\n",
       " 'g7g6',\n",
       " 'f7f6',\n",
       " 'e7e6',\n",
       " 'd7d6',\n",
       " 'c7c6',\n",
       " 'b7b6',\n",
       " 'a7a6',\n",
       " 'h7h5',\n",
       " 'g7g5',\n",
       " 'f7f5',\n",
       " 'e7e5',\n",
       " 'd7d5',\n",
       " 'c7c5',\n",
       " 'b7b5',\n",
       " 'a7a5',\n",
       " 'g8h6',\n",
       " 'g8f6',\n",
       " 'b8c6',\n",
       " 'b8a6',\n",
       " 'h7h6',\n",
       " 'g7g6',\n",
       " 'f7f6',\n",
       " 'e7e6',\n",
       " 'd7d6',\n",
       " 'c7c6']"
      ]
     },
     "execution_count": 23,
     "metadata": {},
     "output_type": "execute_result"
    }
   ],
   "source": [
    "list "
   ]
  },
  {
   "cell_type": "code",
   "execution_count": 20,
   "metadata": {},
   "outputs": [
    {
     "data": {
      "text/plain": [
       "['g8h6',\n",
       " 'g8f6',\n",
       " 'b8c6',\n",
       " 'b8a6',\n",
       " 'h7h6',\n",
       " 'g7g6',\n",
       " 'f7f6',\n",
       " 'e7e6',\n",
       " 'd7d6',\n",
       " 'c7c6',\n",
       " 'b7b6',\n",
       " 'a7a6',\n",
       " 'h7h5',\n",
       " 'g7g5',\n",
       " 'f7f5',\n",
       " 'e7e5',\n",
       " 'd7d5',\n",
       " 'c7c5',\n",
       " 'b7b5',\n",
       " 'a7a5']"
      ]
     },
     "execution_count": 20,
     "metadata": {},
     "output_type": "execute_result"
    }
   ],
   "source": [
    "moves"
   ]
  }
 ],
 "metadata": {
  "kernelspec": {
   "display_name": "base",
   "language": "python",
   "name": "python3"
  },
  "language_info": {
   "codemirror_mode": {
    "name": "ipython",
    "version": 3
   },
   "file_extension": ".py",
   "mimetype": "text/x-python",
   "name": "python",
   "nbconvert_exporter": "python",
   "pygments_lexer": "ipython3",
   "version": "3.12.3"
  }
 },
 "nbformat": 4,
 "nbformat_minor": 2
}
