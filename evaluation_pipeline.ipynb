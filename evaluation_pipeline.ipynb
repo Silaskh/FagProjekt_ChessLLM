{
 "cells": [
  {
   "cell_type": "code",
   "execution_count": 4,
   "metadata": {},
   "outputs": [],
   "source": [
    "##IMPORTS##\n",
    "import chess\n",
    "import numpy as np\n",
    "import pandas as pd\n",
    "\n",
    "df = pd.read_csv('chessData.csv')\n",
    "\n",
    "def gen_legal_moves(board,frac=1):\n",
    "    legal_moves = board.legal_moves\n",
    "    legal_moves = [str(move) for move in legal_moves]\n",
    "    if frac == 1:\n",
    "        return legal_moves\n",
    "    else:\n",
    "        return np.random.choice(legal_moves, math.floor(frac*len(legal_moves)), replace=False)"
   ]
  },
  {
   "cell_type": "code",
   "execution_count": 10,
   "metadata": {},
   "outputs": [
    {
     "name": "stdout",
     "output_type": "stream",
     "text": [
      "{'b7b5': 3, 'g7g6': 1, 'a7a6': 1, 'b7b6': 1, 'f7f5': 2}\n"
     ]
    }
   ],
   "source": [
    "##SYNTETIC DATA GENERATION##\n",
    "def generate_synthetic_data_dict(N,size,seed,df):\n",
    "    if size == 1:\n",
    "        return generate_synthetic_data_single(N,seed,df)\n",
    "    data = []\n",
    "    np.random.seed(seed)\n",
    "    for i in range(N):\n",
    "        dict = {}\n",
    "        random_list = np.random.multinomial(size, np.ones(size)/size, size=1)[0]\n",
    "        board = chess.Board(df['FEN'][i])\n",
    "        legal_moves = gen_legal_moves(board)\n",
    "        for j in range(size):\n",
    "            if random_list[j] != 0:\n",
    "                dict[np.random.choice(legal_moves)] = random_list[j]\n",
    "        data.append(dict)\n",
    "\n",
    "    return data\n",
    "\n",
    "def generate_synthetic_data_single(N,seed,df):\n",
    "    data = []\n",
    "    np.random.seed(seed)\n",
    "    for i in range(N):\n",
    "        board = chess.Board(df['FEN'][i])\n",
    "        legal_moves = gen_legal_moves(board)\n",
    "        data.append(np.random.choice(legal_moves))\n",
    "    return data\n",
    "\n",
    "path=(\"stockfish-windows-x86-64\\stockfish\\stockfish-windows-x86-64.exe\")"
   ]
  },
  {
   "cell_type": "code",
   "execution_count": null,
   "metadata": {},
   "outputs": [],
   "source": [
    "##DATA LOADING##"
   ]
  },
  {
   "cell_type": "code",
   "execution_count": null,
   "metadata": {},
   "outputs": [],
   "source": [
    "##DATA PREPROCESSING##"
   ]
  },
  {
   "cell_type": "code",
   "execution_count": null,
   "metadata": {},
   "outputs": [],
   "source": [
    "##DATA ANALYSIS##"
   ]
  }
 ],
 "metadata": {
  "kernelspec": {
   "display_name": "chess_env",
   "language": "python",
   "name": "python3"
  },
  "language_info": {
   "codemirror_mode": {
    "name": "ipython",
    "version": 3
   },
   "file_extension": ".py",
   "mimetype": "text/x-python",
   "name": "python",
   "nbconvert_exporter": "python",
   "pygments_lexer": "ipython3",
   "version": "3.11.7"
  }
 },
 "nbformat": 4,
 "nbformat_minor": 2
}
