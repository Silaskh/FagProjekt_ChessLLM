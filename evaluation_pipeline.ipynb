{
 "cells": [
  {
   "cell_type": "code",
   "execution_count": 1,
   "metadata": {},
   "outputs": [
    {
     "ename": "ModuleNotFoundError",
     "evalue": "No module named 'chess'",
     "output_type": "error",
     "traceback": [
      "\u001b[1;31m---------------------------------------------------------------------------\u001b[0m",
      "\u001b[1;31mModuleNotFoundError\u001b[0m                       Traceback (most recent call last)",
      "Cell \u001b[1;32mIn[1], line 2\u001b[0m\n\u001b[0;32m      1\u001b[0m \u001b[38;5;66;03m##IMPORTS##\u001b[39;00m\n\u001b[1;32m----> 2\u001b[0m \u001b[38;5;28;01mimport\u001b[39;00m \u001b[38;5;21;01mchess\u001b[39;00m\n\u001b[0;32m      3\u001b[0m \u001b[38;5;28;01mimport\u001b[39;00m \u001b[38;5;21;01mnumpy\u001b[39;00m \u001b[38;5;28;01mas\u001b[39;00m \u001b[38;5;21;01mnp\u001b[39;00m\n\u001b[0;32m      4\u001b[0m \u001b[38;5;28;01mimport\u001b[39;00m \u001b[38;5;21;01mpandas\u001b[39;00m \u001b[38;5;28;01mas\u001b[39;00m \u001b[38;5;21;01mpd\u001b[39;00m\n",
      "\u001b[1;31mModuleNotFoundError\u001b[0m: No module named 'chess'"
     ]
    }
   ],
   "source": [
    "##IMPORTS##\n",
    "import chess\n",
    "import numpy as np\n",
    "import pandas as pd\n",
    "\n",
    "df = pd.read_csv('chessData.csv')\n",
    "\n",
    "def gen_legal_moves(board,frac=1):\n",
    "    legal_moves = board.legal_moves\n",
    "    legal_moves = [str(move) for move in legal_moves]\n",
    "    if frac == 1:\n",
    "        return legal_moves\n",
    "    else:\n",
    "        return np.random.choice(legal_moves, math.floor(frac*len(legal_moves)), replace=False)"
   ]
  },
  {
   "cell_type": "code",
   "execution_count": null,
   "metadata": {},
   "outputs": [
    {
     "data": {
      "text/plain": [
       "1"
      ]
     },
     "execution_count": 38,
     "metadata": {},
     "output_type": "execute_result"
    }
   ],
   "source": [
    "##SYNTETIC DATA GENERATION##\n",
    "def generate_synthetic_data_dict(N,size,df,seed=1):\n",
    "    if size == 1:\n",
    "        return generate_synthetic_data_single(N,seed,df)\n",
    "    data = []\n",
    "    np.random.seed(seed)\n",
    "    for i in range(N):\n",
    "        dict = {}\n",
    "        random_list = np.random.multinomial(size, np.ones(size)/size, size=1)[0]\n",
    "        board = chess.Board(df['FEN'][i])\n",
    "        legal_moves = gen_legal_moves(board)\n",
    "        for j in range(size):\n",
    "            if random_list[j] != 0:\n",
    "                dict[np.random.choice(legal_moves)] = random_list[j]\n",
    "        data.append(dict)\n",
    "\n",
    "    return data\n",
    "\n",
    "def generate_synthetic_data_single(N,seed,df):\n",
    "    data = []\n",
    "    np.random.seed(seed)\n",
    "    for i in range(N):\n",
    "        board = chess.Board(df['FEN'][i])\n",
    "        legal_moves = gen_legal_moves(board)\n",
    "        data.append(np.random.choice(legal_moves))\n",
    "    return data\n",
    "\n",
    "path=(\"stockfish-windows-x86-64\\stockfish\\stockfish-windows-x86-64.exe\")\n",
    "\n",
    "\n",
    "def evaluate_move(board, move, path):\n",
    "    #Evaluates the move before move and after move return the difference\n",
    "    board1 = board.copy()\n",
    "    board1.push(chess.Move.from_uci(move))\n",
    "    board2 = board.copy()\n",
    "    #Return differnce of board1 and board2\n",
    "\n",
    "\n",
    "def amount_legal_moves_taken(l , df):\n",
    "    amount = 0\n",
    "    for i in range(len(l)):\n",
    "        board = chess.Board(df['FEN'][i])\n",
    "        legal_moves = gen_legal_moves(board)\n",
    "        if l[i] in legal_moves:\n",
    "            amount += 1\n",
    "    return amount\n",
    "\n",
    "def amount_index_zero(l,df):\n",
    "    amount = 0\n",
    "    for i in range(len(l)):\n",
    "        board = chess.Board(df['FEN'][i])\n",
    "        legal_moves = gen_legal_moves(board)\n",
    "        if l[i] == legal_moves[0]:\n",
    "            amount += 1\n",
    "    return amount\n",
    "\n",
    "def amount_mean_taken_over_mu_moves():\n",
    "    pass\n",
    "\n",
    "\n",
    "amount = amount_index_zero(generate_synthetic_data_dict(10,1,df,1),df)\n",
    "amount "
   ]
  },
  {
   "cell_type": "code",
   "execution_count": null,
   "metadata": {},
   "outputs": [],
   "source": [
    "import chess\n",
    "import chess.engine\n",
    "import pandas as pd\n",
    "import numpy as np\n",
    "\n",
    "def evaluate_move(fen,move):\n",
    "    # Path to Stockfish executable\n",
    "    stockfish_path = \"stockfish-windows-x86-64\\stockfish\\stockfish-windows-x86-64.exe\"\n",
    "    \n",
    "    with chess.engine.SimpleEngine.popen_uci(stockfish_path) as engine:\n",
    "        engine.configure({\"Threads\": 8})  # Increased number of threads for stability\n",
    "        # Create a chess board from FEN\n",
    "        board = chess.Board(fen)\n",
    "        # Determine which player is to move\n",
    "        is_white_to_move = board.turn == chess.WHITE\n",
    "        # Evaluate the initial position\n",
    "        initial_info = engine.analyse(board, chess.engine.Limit(time=0.1))  # Increased time limit for stability\n",
    "        initial_score = initial_info[\"score\"].white().score(mate_score=10000)  # Get the POV score for White\n",
    "        \n",
    "        # If it's Black to move, invert the score\n",
    "        if not is_white_to_move:\n",
    "            initial_score = -initial_score\n",
    "        \n",
    "        board = chess.Board(fen)\n",
    "        board.push(chess.Move.from_uci(move))\n",
    "        info = engine.analyse(board, chess.engine.Limit(time=0.1))  # Increased time limit for stability\n",
    "        move_score_uci = info[\"score\"].white().score(mate_score=10000)  # Get the POV score for White\n",
    "        # If it's Black to move, invert the score\n",
    "        if not is_white_to_move:\n",
    "            move_score_uci = -move_score_uci\n",
    "\n",
    "        move_difference = move_score_uci - initial_score\n",
    "        return move_difference\n",
    "\n",
    "def moves_dataframe(fen):   \n",
    "    legal_moves = gen_legal_moves(chess.Board(fen))\n",
    "        \n",
    "    # Evaluate all legal moves\n",
    "    move_differences = []\n",
    "    for move in legal_moves:\n",
    "        score = evaluate_move(fen, move)\n",
    "        move_differences.append((move, score))\n",
    "        \n",
    "    \n",
    "    # Convert to DataFrame\n",
    "    moves_df = pd.DataFrame(move_differences, columns=['move', 'score_difference'])   \n",
    "    return moves_df\n",
    "        \n",
    "\n",
    "def percentiles(moves_df):\n",
    "        score_75th_percentile = np.percentile(moves_df['score_difference'], 75)\n",
    "        score_25th_percentile = np.percentile(moves_df['score_difference'], 25)\n",
    "        score_50th_percentile = np.percentile(moves_df['score_difference'], 50)\n",
    "        # Return results\n",
    "        result = {\n",
    "            \"score_75th_percentile\": score_75th_percentile,\n",
    "            \"score_50th_percentile\": score_50th_percentile,\n",
    "            \"score_25th_percentile\": score_25th_percentile,}\n",
    "        return result\n",
    "\n",
    "def in_percentile(score,percentile):\n",
    "    if score >= percentile[\"score_75th_percentile\"]:\n",
    "        return np.array([0,0,0,1])\n",
    "    elif percentile[\"score_50th_percentile\"] <= score < percentile[\"score_75th_percentile\"]:\n",
    "        return np.array([0,0,1,0])\n",
    "    elif percentile[\"score_25th_percentile\"] <= score < percentile[\"score_50th_percentile\"]:\n",
    "        return np.array([0,1,0,0])\n",
    "    else:\n",
    "        return np.array([1,0,0,0])\n",
    "    \n",
    "def percentile_distribution(moves,df):\n",
    "    result = np.zeros(4)\n",
    "    for i in range(len(moves)):\n",
    "        moves_df = moves_dataframe(df['FEN'][i],moves[i],df)\n",
    "        move_difference = evaluate_move(df['FEN'][i],moves[i])\n",
    "        result += in_percentile(move_difference, percentiles(moves_df))\n",
    "    return result\n",
    "\n",
    "def stockfish_score_function(N, df):\n",
    "    stockfish_score = []\n",
    "    for i in range(N):\n",
    "        fen = df['FEN'][i]\n",
    "        moves_df = moves_dataframe(fen)\n",
    "        stockfish_score.append(max(moves_df['score_difference']))\n",
    "    return stockfish_score   \n"
   ]
  },
  {
   "cell_type": "code",
   "execution_count": null,
   "metadata": {},
   "outputs": [
    {
     "data": {
      "text/plain": [
       "135.5"
      ]
     },
     "execution_count": 126,
     "metadata": {},
     "output_type": "execute_result"
    }
   ],
   "source": [
    "###WASERSTEIN DISTANCE###\n",
    "from scipy.stats import wasserstein_distance\n",
    "\n",
    "\n",
    "llm_moves = generate_synthetic_data_dict(10,1,df)\n",
    "llm_moves = [evaluate_move(df['FEN'][i],llm_moves[i]) for i in range(len(llm_moves))]\n",
    "stockfish_moves = stockfish_score_function(10,df)\n",
    "wasserstein_distance(llm_moves,stockfish_moves)\n"
   ]
  },
  {
   "cell_type": "code",
   "execution_count": null,
   "metadata": {},
   "outputs": [
    {
     "data": {
      "text/plain": [
       "135.5"
      ]
     },
     "execution_count": 128,
     "metadata": {},
     "output_type": "execute_result"
    }
   ],
   "source": [
    "wasserstein_distance(stockfish_moves,llm_moves)"
   ]
  },
  {
   "cell_type": "code",
   "execution_count": null,
   "metadata": {},
   "outputs": [
    {
     "ename": "ModuleNotFoundError",
     "evalue": "No module named 'numpy'",
     "output_type": "error",
     "traceback": [
      "\u001b[1;31m---------------------------------------------------------------------------\u001b[0m",
      "\u001b[1;31mModuleNotFoundError\u001b[0m                       Traceback (most recent call last)",
      "Cell \u001b[1;32mIn[1], line 1\u001b[0m\n\u001b[1;32m----> 1\u001b[0m \u001b[38;5;28;01mimport\u001b[39;00m \u001b[38;5;21;01mnumpy\u001b[39;00m \u001b[38;5;28;01mas\u001b[39;00m \u001b[38;5;21;01mnp\u001b[39;00m\n\u001b[0;32m      2\u001b[0m \u001b[38;5;28;01mfrom\u001b[39;00m \u001b[38;5;21;01mscipy\u001b[39;00m\u001b[38;5;21;01m.\u001b[39;00m\u001b[38;5;21;01mstats\u001b[39;00m \u001b[38;5;28;01mimport\u001b[39;00m wasserstein_distance\n\u001b[0;32m      4\u001b[0m \u001b[38;5;28;01mdef\u001b[39;00m \u001b[38;5;21mpermutation_test\u001b[39m(sample1, sample2, num_permutations\u001b[38;5;241m=\u001b[39m\u001b[38;5;241m1000\u001b[39m):\n",
      "\u001b[1;31mModuleNotFoundError\u001b[0m: No module named 'numpy'"
     ]
    }
   ],
   "source": [
    "import numpy as np\n",
    "from scipy.stats import wasserstein_distance\n",
    "\n",
    "def permutation_test(sample1, sample2, num_permutations=1000):\n",
    "    combined = np.concatenate([sample1, sample2])\n",
    "    observed_distance = wasserstein_distance(sample1, sample2)\n",
    "    \n",
    "    permuted_distances = []\n",
    "    for _ in range(num_permutations):\n",
    "        np.random.shuffle(combined)\n",
    "        permuted_sample1 = combined[:len(sample1)]\n",
    "        permuted_sample2 = combined[len(sample1):]\n",
    "        permuted_distances.append(wasserstein_distance(permuted_sample1, permuted_sample2))\n",
    "    \n",
    "    p_value = np.mean(np.array(permuted_distances) >= observed_distance)\n",
    "    return observed_distance, p_value\n",
    "\n",
    "# Example usage\n",
    "sample1 = llm_moves\n",
    "sample2 = stockfish_moves\n",
    "observed_distance, p_value = permutation_test(sample1, sample2)\n",
    "print(f\"Observed Distance: {observed_distance}, p-value: {p_value}\")\n"
   ]
  },
  {
   "cell_type": "code",
   "execution_count": null,
   "metadata": {},
   "outputs": [],
   "source": [
    "##DATA PREPROCESSING##"
   ]
  },
  {
   "cell_type": "code",
   "execution_count": null,
   "metadata": {},
   "outputs": [],
   "source": [
    "##DATA ANALYSIS##"
   ]
  }
 ],
 "metadata": {
  "kernelspec": {
   "display_name": "chess_env",
   "language": "python",
   "name": "python3"
  },
  "language_info": {
   "codemirror_mode": {
    "name": "ipython",
    "version": 3
   },
   "file_extension": ".py",
   "mimetype": "text/x-python",
   "name": "python",
   "nbconvert_exporter": "python",
   "pygments_lexer": "ipython3",
   "version": "3.11.8"
  }
 },
 "nbformat": 4,
 "nbformat_minor": 2
}
