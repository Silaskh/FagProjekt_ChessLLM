{
 "cells": [
  {
   "cell_type": "markdown",
   "metadata": {},
   "source": [
    "<h1> Activate chs_env virtual enviroment </h1>\n",
    "Set-ExecutionPolicy -Scope CurrentUser -ExecutionPolicy Unrestricted <br>\n",
    "chess_env\\Scripts\\activate"
   ]
  },
  {
   "cell_type": "code",
   "execution_count": 7,
   "metadata": {},
   "outputs": [],
   "source": [
    "# Importing all relevant and necessary modules\n",
    "import numpy as np \n",
    "import pandas as pd \n",
    "import os\n",
    "import chess\n",
    "import math\n",
    "import matplotlib.pyplot as plt\n",
    "import ollama\n",
    "import random\n"
   ]
  },
  {
   "cell_type": "code",
   "execution_count": 8,
   "metadata": {},
   "outputs": [],
   "source": [
    "def gen_legal_moves(board,frac=1):\n",
    "    legal_moves = board.legal_moves\n",
    "    legal_moves = [str(move) for move in legal_moves]\n",
    "    if frac == 1:\n",
    "        return legal_moves\n",
    "    else:\n",
    "        return np.random.choice(legal_moves, math.floor(frac*len(legal_moves)), replace=False)\n",
    "\n",
    "def gen_prompt2(board,moves, n=10):\n",
    "    return f\"You are playing chess and the board state is {board}. Here you are given a list of legal moves {random.shuffle(moves)}. You have to chose the best move to make next from the list of legal moves, please provide an explanation as to why you chose this move and also provide it in UCI notation?\"\n",
    "    \n",
    "def gen_legal_moves(board,frac=1):\n",
    "    legal_moves = board.legal_moves\n",
    "    legal_moves = [str(move) for move in legal_moves]\n",
    "    if frac == 1:\n",
    "        return legal_moves\n",
    "    else:\n",
    "        return np.random.choice(legal_moves, math.floor(frac*len(legal_moves)), replace=False)\n",
    "\n",
    "def prompt_move(prompt,board):\n",
    "    response = ollama.chat(model='llama2', messages=[\n",
    "            {'role': 'user','content': prompt,},])\n",
    "    move = response['message']['content']\n",
    "    for k in range(len(move)):\n",
    "        if move[k:k+4] in gen_legal_moves(board):\n",
    "            move = move[k:k+4]\n",
    "            break\n",
    "    return move"
   ]
  },
  {
   "cell_type": "code",
   "execution_count": 3,
   "metadata": {},
   "outputs": [],
   "source": [
    "df = pd.read_csv(r\"chessData.csv\")"
   ]
  },
  {
   "cell_type": "code",
   "execution_count": 9,
   "metadata": {},
   "outputs": [],
   "source": [
    "def prompt_ensemble(size,fen):\n",
    "    moves = {}  #Dictionary to store the moves and their frequencies\n",
    "    for i in range(size):\n",
    "        board = chess.Board(fen)\n",
    "        move = prompt_move(gen_prompt2(board,gen_legal_moves(board)),board)\n",
    "        if move in moves:\n",
    "            moves[move] += 1 #Increment the frequency of the move\n",
    "        else:\n",
    "            moves[move] = 1 #Add the move to the dictionary\n",
    "    return moves\n",
    "\n",
    "def ensemble_manager(df,sizes):\n",
    "    ensemble = {}\n",
    "    for size in sizes:\n",
    "        ensemble[size] = prompt_ensemble(size,df['FEN'][0]) #df['FEN'][0] is the first FEN in the dataset change for iteration over all FENs\n",
    "\n",
    "    return ensemble"
   ]
  },
  {
   "cell_type": "code",
   "execution_count": 10,
   "metadata": {},
   "outputs": [
    {
     "data": {
      "text/plain": [
       "{\"\\nAfter examining the board state you provided, I analyzed the available moves for both players. Based on the position on the board, I recommend playing the pawn at e5. Here is my reasoning:\\n\\n1. The pawn at e5 is well-supported by other pawns on either side of it, which will make it more difficult for Black to push it forward.\\n2. The king's bishop at b5 is somewhat weakened due to the presence of Black's knight at k7. Playing the pawn at e5 will help to improve the bishop's development and potential attacking possibilities.\\n3. Playing the pawn at e5 also prepares for a possible push of the queen's pawn to e4, which could open up lines for the rook at f1 to potentially attack Black's position.\\n\\nHere is the move in UCI notation:\\n\\n1. e5\\n\\nExplanation: The move e5 is chosen to support the pawn structure and develop the bishop, while also preparing for a possible push of the queen's pawn to e4.\": 1,\n",
       " '\\nAfter analyzing the board state, I would recommend playing the move \"Qf3\" (UCI notation). Here\\'s why:\\n\\n1. Threatens to capture the knight on b4: The knight is attacking the queen on f8, and by playing Qf3, we can threaten to capture the knight on b4, which would give us a strong attacking position.\\n2. Develops the queen: By playing Qf3, we are developing our queen, which gives us more mobility and control over the board.\\n3. Prepares for possible pawn break: The b7 pawn is weak and could be attacked by black\\'s pieces. By playing Qf3, we are preparing to potentially break the pawn and open up the d-file for our rook to attack.\\n4. Improves our position on the kingside: Playing Qf3 improves our position on the kingside, as it attacks the black king and puts pressure on the b7 pawn. This could potentially lead to a strong attacking position.\\n\\nTherefore, I believe that playing \"Qf3\" is the best move in this position, as it threatens to capture the knight on b4, develops our queen, prepares for a possible pawn break, and improves our position on the kingside.': 1,\n",
       " \"\\nAfter examining the board state you provided, I would recommend playing the move Qd2. Here's why:\\n\\n1. Threatens to win a pawn: With my queen on d2, I can threaten to capture the black pawn on e7, which would give me a material advantage.\\n2. Protects the kingside: By playing Qd2, I am protecting my king's side and preparing for potential attacks from Black.\\n3. Develops my queen: Playing Qd2 allows me to develop my queen and put it in a more active position on the board.\\n4. Creates pressure on Black's position: By playing Qd2, I am creating pressure on Black's position and making it difficult for them to navigate their pieces effectively.\\n\\nIn UCI notation, this move would be represented as follows:\\n\\n1. Qd2\\n\\nI hope this helps! Let me know if you have any questions or need further clarification on why I chose this move.\": 1,\n",
       " \"\\nAfter analyzing the board state you provided, I believe the best move to make next is ♕xd4. Here's why:\\n\\n1. The pawn on d4 is a strong attacker, and by moving the queen there, we can potentially take out the opponent's king.\\n2. The move ♕xd4 also puts pressure on the opponent's queen, as it cannot move without putting its own king in danger.\\n3. Additionally, the move ♕xd4 opens up lines for the rooks and bishop to potentially attack the opponent's position.\\n\\nIn UCI notation, the move would be written as follows:\\n\\n1. Qxd4\\n\\nExplanation: The queen is moving to the d4 square to capture the opponent's pawn on that square and put pressure on the opponent's king. This move also opens up lines for the rooks and bishop to potentially attack the opponent's position.\": 1,\n",
       " \"\\nAfter careful consideration, I have chosen to play the move 4.Qf3. Here's my reasoning:\\n\\n1. The queen is attacking the knight on f6, which is a weakly placed piece that can be easily attacked. By moving the queen to f3, I am putting pressure on the knight and preparing to potentially attack it in future moves.\\n2. The move 4.Qf3 also opens up the d-file for my rook to potentially attack the enemy king through. By moving the queen out of the way, I am creating the opportunity for my rook to potentially participate in the attack on the enemy king.\\n3. Additionally, by playing 4.Qf3, I am preparing to potentially play the move 5.d4, which would further open up the d-file and create additional pressure on the enemy king.\\n\\nIn UCI notation, the move 4.Qf3 would be represented as follows:\\n\\n1... Qf3\\n\\nExplanation: The move 4.Qf3 is a legal move in the given position, as it moves the queen to a square that is not attacked by an opponent's piece.\": 1}"
      ]
     },
     "execution_count": 10,
     "metadata": {},
     "output_type": "execute_result"
    }
   ],
   "source": [
    "fen = df['FEN'][0]\n",
    "size = 5\n",
    "ensemble = prompt_ensemble(size,fen)\n",
    "ensemble"
   ]
  },
  {
   "cell_type": "code",
   "execution_count": 6,
   "metadata": {},
   "outputs": [
    {
     "data": {
      "text/plain": [
       "['g8h6',\n",
       " 'g8f6',\n",
       " 'b8c6',\n",
       " 'b8a6',\n",
       " 'h7h6',\n",
       " 'g7g6',\n",
       " 'f7f6',\n",
       " 'e7e6',\n",
       " 'd7d6',\n",
       " 'c7c6',\n",
       " 'b7b6',\n",
       " 'a7a6',\n",
       " 'h7h5',\n",
       " 'g7g5',\n",
       " 'f7f5',\n",
       " 'e7e5',\n",
       " 'd7d5',\n",
       " 'c7c5',\n",
       " 'b7b5',\n",
       " 'a7a5']"
      ]
     },
     "execution_count": 6,
     "metadata": {},
     "output_type": "execute_result"
    }
   ],
   "source": [
    "gen_legal_moves(chess.Board(fen))"
   ]
  },
  {
   "cell_type": "code",
   "execution_count": null,
   "metadata": {},
   "outputs": [],
   "source": []
  }
 ],
 "metadata": {
  "kernelspec": {
   "display_name": "Python 3",
   "language": "python",
   "name": "python3"
  },
  "language_info": {
   "codemirror_mode": {
    "name": "ipython",
    "version": 3
   },
   "file_extension": ".py",
   "mimetype": "text/x-python",
   "name": "python",
   "nbconvert_exporter": "python",
   "pygments_lexer": "ipython3",
   "version": "3.9.12"
  }
 },
 "nbformat": 4,
 "nbformat_minor": 2
}
