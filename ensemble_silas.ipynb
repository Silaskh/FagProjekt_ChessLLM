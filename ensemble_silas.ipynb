{
 "cells": [
  {
   "cell_type": "markdown",
   "metadata": {},
   "source": [
    "<h1> Activate chs_env virtual enviroment </h1>\n",
    "Set-ExecutionPolicy -Scope CurrentUser -ExecutionPolicy Unrestricted <br>\n",
    "chess_env\\Scripts\\activate"
   ]
  },
  {
   "cell_type": "code",
   "execution_count": 4,
   "metadata": {},
   "outputs": [],
   "source": [
    "# Importing all relevant and necessary modules\n",
    "import numpy as np \n",
    "import pandas as pd \n",
    "import os\n",
    "import chess\n",
    "import math\n",
    "import matplotlib.pyplot as plt\n",
    "import ollama\n",
    "import random\n",
    "from fentoboardimage import fenToImage, loadPiecesFolder"
   ]
  },
  {
   "cell_type": "code",
   "execution_count": null,
   "metadata": {},
   "outputs": [],
   "source": [
    "def gen_legal_moves(board,frac=1):\n",
    "    legal_moves = board.legal_moves\n",
    "    legal_moves = [str(move) for move in legal_moves]\n",
    "    if frac == 1:\n",
    "        return legal_moves\n",
    "    else:\n",
    "        return np.random.choice(legal_moves, math.floor(frac*len(legal_moves)), replace=False)\n",
    "\n",
    "def gen_prompt2(board,moves, n=10):\n",
    "    return f\"You are playing chess and the board state is {board}. You are playing as black and have to chose the best move to make next in order for black to win. Chose a move from this list of legal moves: {moves}, and please provide your next move in UCI notation?\"\n",
    "    \n",
    "def gen_legal_moves(board,frac=1):\n",
    "    legal_moves = board.legal_moves\n",
    "    legal_moves = [str(move) for move in legal_moves]\n",
    "    if frac == 1:\n",
    "        return legal_moves\n",
    "    else:\n",
    "        return np.random.choice(legal_moves, math.floor(frac*len(legal_moves)), replace=False)\n",
    "\n",
    "def prompt_move(prompt,board):\n",
    "    response = ollama.chat(model='llama3', messages=[\n",
    "            {'role': 'user','content': prompt,},])\n",
    "    move = response['message']['content']\n",
    "    for k in range(len(move)):\n",
    "        if move[k:k+4] in gen_legal_moves(board):\n",
    "            move = move[k:k+4]\n",
    "            break\n",
    "    return move"
   ]
  },
  {
   "cell_type": "code",
   "execution_count": 3,
   "metadata": {},
   "outputs": [],
   "source": [
    "df = pd.read_csv(r\"chessData.csv\")"
   ]
  },
  {
   "cell_type": "code",
   "execution_count": 10,
   "metadata": {},
   "outputs": [],
   "source": [
    "def prompt_ensemble(size,fen):\n",
    "    moves = {}  #Dictionary to store the moves and their frequencies\n",
    "    for i in range(size):\n",
    "        board = chess.Board(fen)\n",
    "        move = prompt_move(gen_prompt2(fen,gen_legal_moves(board)),board)\n",
    "        if i % 1 == 0:\n",
    "            print(f\"Move {i}: {move}\")\n",
    "        if move in moves:\n",
    "            moves[move] += 1 #Increment the frequency of the move\n",
    "        else:\n",
    "            moves[move] = 1 #Add the move to the dictionary\n",
    "    return moves\n",
    "\n",
    "# def ensemble_manager(df,sizes):\n",
    "#     ensemble = {}\n",
    "#     for size in sizes:\n",
    "#         ensemble[size] = prompt_ensemble(size,df['FEN'][0]) #df['FEN'][0] is the first FEN in the dataset change for iteration over all FENs\n",
    "\n",
    "#     return ensemble"
   ]
  },
  {
   "cell_type": "code",
   "execution_count": 11,
   "metadata": {},
   "outputs": [
    {
     "data": {
      "text/plain": [
       "['g8h6',\n",
       " 'g8f6',\n",
       " 'd8d7',\n",
       " 'd8d6',\n",
       " 'c8d7',\n",
       " 'c8e6',\n",
       " 'c8f5',\n",
       " 'c8g4',\n",
       " 'b8d7',\n",
       " 'b8c6',\n",
       " 'b8a6',\n",
       " 'd5e4',\n",
       " 'h7h6',\n",
       " 'g7g6',\n",
       " 'f7f6',\n",
       " 'e7e6',\n",
       " 'c7c6',\n",
       " 'b7b6',\n",
       " 'a7a6',\n",
       " 'd5d4',\n",
       " 'h7h5',\n",
       " 'g7g5',\n",
       " 'f7f5',\n",
       " 'e7e5',\n",
       " 'c7c5',\n",
       " 'b7b5',\n",
       " 'a7a5']"
      ]
     },
     "execution_count": 11,
     "metadata": {},
     "output_type": "execute_result"
    }
   ],
   "source": [
    "fen = \"rnbqkbnr/ppp1pppp/8/3p4/4P1Q1/8/PPPP1PPP/RNB1KBNR b KQkq - 1 2\"\n",
    "gen_legal_moves(chess.Board(fen))"
   ]
  },
  {
   "cell_type": "code",
   "execution_count": 12,
   "metadata": {},
   "outputs": [
    {
     "name": "stdout",
     "output_type": "stream",
     "text": [
      "Move 0: d8d6\n",
      "Move 1: d8d6\n",
      "Move 2: d8d6\n",
      "Move 3: d8d6\n",
      "Move 4: d8d6\n",
      "Move 5: d8d6\n",
      "Move 6: d8d6\n",
      "Move 7: d8d6\n",
      "Move 8: d8d7\n"
     ]
    }
   ],
   "source": [
    "size = 25\n",
    "ensemble = prompt_ensemble(size,fen)\n",
    "ensemble"
   ]
  },
  {
   "cell_type": "code",
   "execution_count": 7,
   "metadata": {},
   "outputs": [],
   "source": [
    "def show_board(fen_position,source = r\"./pieces\"):\n",
    "    boardImage = fenToImage(\n",
    "        fen = fen_position,\n",
    "        squarelength = 100,\n",
    "        pieceSet=loadPiecesFolder(source),\n",
    "        darkColor=\"#D18B47\",\n",
    "        lightColor=\"#FFCE9E\"\n",
    "         )\n",
    "    boardImage.show()\n",
    "        \n",
    "# fen = df['FEN'][321]\n",
    "fen = \"rnbqkbnr/ppp1pppp/8/3p4/4P1Q1/8/PPPP1PPP/RNB1KBNR b KQkq - 1 2\"\n",
    "board = chess.Board(fen)\n",
    "# fen = board.fen()\n",
    "show_board(fen)"
   ]
  }
 ],
 "metadata": {
  "kernelspec": {
   "display_name": "Python 3",
   "language": "python",
   "name": "python3"
  },
  "language_info": {
   "codemirror_mode": {
    "name": "ipython",
    "version": 3
   },
   "file_extension": ".py",
   "mimetype": "text/x-python",
   "name": "python",
   "nbconvert_exporter": "python",
   "pygments_lexer": "ipython3",
   "version": "3.9.12"
  }
 },
 "nbformat": 4,
 "nbformat_minor": 2
}
