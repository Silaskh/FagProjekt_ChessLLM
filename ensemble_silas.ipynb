{
 "cells": [
  {
   "cell_type": "markdown",
   "metadata": {},
   "source": [
    "<h1> Activate chs_env virtual enviroment </h1>\n",
    "Set-ExecutionPolicy -Scope CurrentUser -ExecutionPolicy Unrestricted <br>\n",
    "chess_env\\Scripts\\activate"
   ]
  },
  {
   "cell_type": "code",
   "execution_count": 2,
   "metadata": {},
   "outputs": [],
   "source": [
    "# Importing all relevant and necessary modules\n",
    "import numpy as np \n",
    "import pandas as pd \n",
    "import os\n",
    "import chess\n",
    "import math\n",
    "import matplotlib.pyplot as plt\n",
    "import ollama\n",
    "import random\n",
    "from fentoboardimage import fenToImage, loadPiecesFolder"
   ]
  },
  {
   "cell_type": "code",
   "execution_count": 3,
   "metadata": {},
   "outputs": [],
   "source": [
    "def gen_legal_moves(board,frac=1):\n",
    "    legal_moves = board.legal_moves\n",
    "    legal_moves = [str(move) for move in legal_moves]\n",
    "    if frac == 1:\n",
    "        return legal_moves\n",
    "    else:\n",
    "        return np.random.choice(legal_moves, math.floor(frac*len(legal_moves)), replace=False)\n",
    "\n",
    "def gen_prompt2(board,moves, n=10):\n",
    "    return f\"You are playing chess and the board state is {board}. You are playing as black and have to chose the best move to make next in order for black to win. Chose a move from this list of legal moves: {moves}, and please provide your next move in UCI notation?\"\n",
    "    \n",
    "    # prompt: return f\"You are playing chess and the board state is {board}. You are playing as black and have to chose the best move to make next in order for black to win. Chose a move from this list of legal moves: {moves}, and please provide your next move in UCI notation?\"\n",
    "    \n",
    "def gen_legal_moves(board,frac=1):\n",
    "    legal_moves = board.legal_moves\n",
    "    legal_moves = [str(move) for move in legal_moves]\n",
    "    if frac == 1:\n",
    "        return legal_moves\n",
    "    else:\n",
    "        return np.random.choice(legal_moves, math.floor(frac*len(legal_moves)), replace=False)\n",
    "\n",
    "def prompt_move(prompt,board):\n",
    "    response = ollama.chat(model='llama3', messages=[\n",
    "            {'role': 'user','content': prompt,},])\n",
    "    move = response['message']['content']\n",
    "    for k in range(len(move)):\n",
    "        if move[k:k+4] in gen_legal_moves(board):\n",
    "            move = move[k:k+4]\n",
    "            break\n",
    "    return move"
   ]
  },
  {
   "cell_type": "code",
   "execution_count": 4,
   "metadata": {},
   "outputs": [],
   "source": [
    "df = pd.read_csv(r\"chessData.csv\")"
   ]
  },
  {
   "cell_type": "code",
   "execution_count": 5,
   "metadata": {},
   "outputs": [],
   "source": [
    "def prompt_ensemble(size,fen):\n",
    "    moves = {}  #Dictionary to store the moves and their frequencies\n",
    "    for i in range(size):\n",
    "        board = chess.Board(fen)\n",
    "        move = prompt_move(gen_prompt2(fen,gen_legal_moves(board)),board)\n",
    "        if i % 1 == 0:\n",
    "            print(f\"Move {i}: {move}\")\n",
    "        if move in moves:\n",
    "            moves[move] += 1 #Increment the frequency of the move\n",
    "        else:\n",
    "            moves[move] = 1 #Add the move to the dictionary\n",
    "    return moves\n",
    "\n",
    "# def ensemble_manager(df,sizes):\n",
    "#     ensemble = {}\n",
    "#     for size in sizes:\n",
    "#         ensemble[size] = prompt_ensemble(size,df['FEN'][0]) #df['FEN'][0] is the first FEN in the dataset change for iteration over all FENs\n",
    "\n",
    "#     return ensemble"
   ]
  },
  {
   "cell_type": "code",
   "execution_count": 6,
   "metadata": {},
   "outputs": [
    {
     "data": {
      "text/plain": [
       "['g8h6',\n",
       " 'g8f6',\n",
       " 'd8d7',\n",
       " 'd8d6',\n",
       " 'c8d7',\n",
       " 'c8e6',\n",
       " 'c8f5',\n",
       " 'c8g4',\n",
       " 'b8d7',\n",
       " 'b8c6',\n",
       " 'b8a6',\n",
       " 'd5e4',\n",
       " 'h7h6',\n",
       " 'g7g6',\n",
       " 'f7f6',\n",
       " 'e7e6',\n",
       " 'c7c6',\n",
       " 'b7b6',\n",
       " 'a7a6',\n",
       " 'd5d4',\n",
       " 'h7h5',\n",
       " 'g7g5',\n",
       " 'f7f5',\n",
       " 'e7e5',\n",
       " 'c7c5',\n",
       " 'b7b5',\n",
       " 'a7a5']"
      ]
     },
     "execution_count": 6,
     "metadata": {},
     "output_type": "execute_result"
    }
   ],
   "source": [
    "fen = \"rnbqkbnr/ppp1pppp/8/3p4/4P1Q1/8/PPPP1PPP/RNB1KBNR b KQkq - 1 2\"\n",
    "gen_legal_moves(chess.Board(fen))"
   ]
  },
  {
   "cell_type": "code",
   "execution_count": 2,
   "metadata": {},
   "outputs": [
    {
     "name": "stdout",
     "output_type": "stream",
     "text": [
      "Move 0: d8d7\n",
      "Move 1: d8d6\n",
      "Move 2: d8d6\n",
      "Move 3: d8d6\n",
      "Move 4: d8d6\n",
      "Move 5: c8e6\n",
      "Move 6: c8e6\n",
      "Move 7: d8d6\n",
      "Move 8: d8d6\n",
      "Move 9: d8d6\n",
      "Move 10: d8d6\n",
      "Move 11: d8d6\n",
      "Move 12: d8d6\n",
      "Move 13: d8d6\n",
      "Move 14: g8f6\n",
      "Move 15: d8d7\n",
      "Move 16: d8d6\n",
      "Move 17: d8d6\n",
      "Move 18: d8d6\n",
      "Move 19: d8d6\n",
      "Move 20: d8d6\n",
      "Move 21: d8d6\n",
      "Move 22: d8d6\n",
      "Move 23: d8d6\n",
      "Move 24: d8d6\n"
     ]
    },
    {
     "data": {
      "text/plain": [
       "{'d8d7': 2, 'd8d6': 20, 'c8e6': 2, 'g8f6': 1}"
      ]
     },
     "execution_count": 7,
     "metadata": {},
     "output_type": "execute_result"
    }
   ],
   "source": [
    "size = 25\n",
    "ensemble = prompt_ensemble(size,fen)\n",
    "ensemble"
   ]
  },
  {
   "cell_type": "code",
   "execution_count": 8,
   "metadata": {},
   "outputs": [],
   "source": [
    "def show_board(fen_position,source = r\"./pieces\"):\n",
    "    boardImage = fenToImage(\n",
    "        fen = fen_position,\n",
    "        squarelength = 100,\n",
    "        pieceSet=loadPiecesFolder(source),\n",
    "        darkColor=\"#D18B47\",\n",
    "        lightColor=\"#FFCE9E\"\n",
    "         )\n",
    "    boardImage.show()\n",
    "        \n",
    "# fen = df['FEN'][321]\n",
    "fen = \"rnbqkbnr/ppp1pppp/8/3p4/4P1Q1/8/PPPP1PPP/RNB1KBNR b KQkq - 1 2\"\n",
    "board = chess.Board(fen)\n",
    "# fen = board.fen()\n",
    "show_board(fen)"
   ]
  },
  {
   "cell_type": "code",
   "execution_count": null,
   "metadata": {},
   "outputs": [],
   "source": [
    "def prompt_ensemble(size,fen):\n",
    "    moves = {}  #Dictionary to store the moves and their frequencies\n",
    "    for i in range(size):\n",
    "        board = chess.Board(fen)\n",
    "        move = prompt_move(gen_prompt2(board,gen_legal_moves(board)),board)\n",
    "        if move in moves:\n",
    "            moves[move] += 1 #Increment the frequency of the move\n",
    "        else:\n",
    "            moves[move] = 1 #Add the move to the dictionary\n",
    "    return moves\n",
    "\n",
    "def ensemble_manager(df,sizes):\n",
    "    ensemble = {}\n",
    "    for size in sizes:\n",
    "        ensemble[size] = prompt_ensemble(size,df['FEN'][0]) #df['FEN'][0] is the first FEN in the dataset change for iteration over all FENs\n"
   ]
  },
  {
   "cell_type": "code",
   "execution_count": null,
   "metadata": {},
   "outputs": [],
   "source": [
    "fen = df['FEN'][0]\n",
    "size = 10\n",
    "ensemble = prompt_ensemble(size,fen)\n",
    "ensemble"
   ]
  },
  {
   "cell_type": "code",
   "execution_count": null,
   "metadata": {},
   "outputs": [],
   "source": [
    "def prompt_test(N,df,N):\n",
    "    amount_legal = 0\n",
    "    amount_optimal = 0\n",
    "    amount_idx_0 = 0"
   ]
  },
  {
   "cell_type": "code",
   "execution_count": 6,
   "metadata": {},
   "outputs": [
    {
     "name": "stdout",
     "output_type": "stream",
     "text": [
      "['g8h6', 'g8f6', 'b8c6', 'b8a6', 'h7h6', 'g7g6', 'f7f6', 'e7e6', 'd7d6', 'c7c6', 'b7b6', 'a7a6', 'h7h5', 'g7g5', 'f7f5', 'e7e5', 'd7d5', 'c7c5', 'b7b5', 'a7a5']\n",
      "['g1h3', 'g1f3', 'g1e2', 'f1a6', 'f1b5', 'f1c4', 'f1d3', 'f1e2', 'e1e2', 'd1h5', 'd1g4', 'd1f3', 'd1e2', 'b1c3', 'b1a3', 'e4e5', 'h2h3', 'g2g3', 'f2f3', 'd2d3', 'c2c3', 'b2b3', 'a2a3', 'h2h4', 'g2g4', 'f2f4', 'd2d4', 'c2c4', 'b2b4', 'a2a4']\n",
      "['g8e7', 'g8h6', 'g8f6', 'f8e7', 'f8d6', 'f8c5', 'f8b4', 'f8a3', 'e8e7', 'd8e7', 'd8f6', 'd8g5', 'd8h4', 'b8c6', 'b8a6', 'h7h6', 'g7g6', 'f7f6', 'd7d6', 'c7c6', 'b7b6', 'a7a6', 'e6e5', 'h7h5', 'g7g5', 'f7f5', 'd7d5', 'c7c5', 'b7b5', 'a7a5']\n",
      "['g1h3', 'g1f3', 'g1e2', 'f1a6', 'f1b5', 'f1c4', 'f1d3', 'f1e2', 'e1e2', 'e1d2', 'd1h5', 'd1g4', 'd1f3', 'd1d3', 'd1e2', 'd1d2', 'c1h6', 'c1g5', 'c1f4', 'c1e3', 'c1d2', 'b1c3', 'b1a3', 'b1d2', 'e4d5', 'e4e5', 'h2h3', 'g2g3', 'f2f3', 'c2c3', 'b2b3', 'a2a3', 'h2h4', 'g2g4', 'f2f4', 'c2c4', 'b2b4', 'a2a4']\n",
      "['g8e7', 'g8h6', 'g8f6', 'f8e7', 'f8d6', 'f8c5', 'f8b4', 'f8a3', 'e8e7', 'e8d7', 'd8e7', 'd8d7', 'd8f6', 'd8d6', 'd8g5', 'd8h4', 'c8d7', 'b8d7', 'b8c6', 'b8a6', 'd5e4', 'h7h6', 'g7g6', 'f7f6', 'c7c6', 'b7b6', 'a7a6', 'e6e5', 'h7h5', 'g7g5', 'f7f5', 'c7c5', 'b7b5', 'a7a5']\n",
      "['d2c4', 'd2f3', 'd2b3', 'd2b1', 'g1h3', 'g1f3', 'g1e2', 'f1a6', 'f1b5', 'f1c4', 'f1d3', 'f1e2', 'e1e2', 'd1h5', 'd1g4', 'd1f3', 'd1e2', 'a1b1', 'e4d5', 'e4e5', 'h2h3', 'g2g3', 'f2f3', 'c2c3', 'b2b3', 'a2a3', 'h2h4', 'g2g4', 'f2f4', 'c2c4', 'b2b4', 'a2a4']\n",
      "['h8g8', 'f8e7', 'f8d6', 'f8c5', 'f8b4', 'f8a3', 'e8e7', 'e8d7', 'd8e7', 'd8d7', 'd8d6', 'c8d7', 'b8d7', 'b8c6', 'b8a6', 'f6g8', 'f6d7', 'f6h5', 'f6g4', 'f6e4', 'h7h6', 'g7g6', 'c7c6', 'b7b6', 'a7a6', 'h7h5', 'g7g5', 'c7c5', 'b7b5', 'a7a5']\n"
     ]
    },
    {
     "ename": "",
     "evalue": "",
     "output_type": "error",
     "traceback": [
      "\u001b[1;31mThe Kernel crashed while executing code in the current cell or a previous cell. \n",
      "\u001b[1;31mPlease review the code in the cell(s) to identify a possible cause of the failure. \n",
      "\u001b[1;31mClick <a href='https://aka.ms/vscodeJupyterKernelCrash'>here</a> for more info. \n",
      "\u001b[1;31mView Jupyter <a href='command:jupyter.viewOutput'>log</a> for further details."
     ]
    }
   ],
   "source": [
    "for i in range(0,7):\n",
    "    print(gen_legal_moves(chess.Board(df['FEN'][i])))"
   ]
  }
 ],
 "metadata": {
  "kernelspec": {
   "display_name": "Python 3",
   "language": "python",
   "name": "python3"
  },
  "language_info": {
   "codemirror_mode": {
    "name": "ipython",
    "version": 3
   },
   "file_extension": ".py",
   "mimetype": "text/x-python",
   "name": "python",
   "nbconvert_exporter": "python",
   "pygments_lexer": "ipython3",
   "version": "3.11.7"
  }
 },
 "nbformat": 4,
 "nbformat_minor": 2
}
